{
 "cells": [
  {
   "cell_type": "code",
   "execution_count": 1,
   "id": "6e8e63c3",
   "metadata": {},
   "outputs": [
    {
     "name": "stderr",
     "output_type": "stream",
     "text": [
      "/etc/timezone is deprecated in some distros, and no longer reliable. tzlocal is ignoring it, and you can likely delete it.\n"
     ]
    }
   ],
   "source": [
    "# initiate Trino client\n",
    "\n",
    "from trino.dbapi import connect\n",
    "\n",
    "\n",
    "trino_connection = connect(\n",
    "    host=\"trino\",\n",
    "    port=8080,\n",
    "    user=\"trino\",\n",
    ")\n",
    "trino = trino_connection.cursor()"
   ]
  },
  {
   "cell_type": "code",
   "execution_count": 2,
   "id": "cad44a14",
   "metadata": {},
   "outputs": [
    {
     "ename": "TrinoQueryError",
     "evalue": "TrinoQueryError(type=INTERNAL_ERROR, name=GENERIC_INTERNAL_ERROR, message=\"io.trino.spi.TrinoException: Error processing metadata for table default.bank_transfers\", query_id=20250310_233914_00000_wq4ht)",
     "output_type": "error",
     "traceback": [
      "\u001b[31m---------------------------------------------------------------------------\u001b[39m",
      "\u001b[31mTrinoQueryError\u001b[39m                           Traceback (most recent call last)",
      "\u001b[36mCell\u001b[39m\u001b[36m \u001b[39m\u001b[32mIn[2]\u001b[39m\u001b[32m, line 3\u001b[39m\n\u001b[32m      1\u001b[39m \u001b[38;5;66;03m# select all data in the table\u001b[39;00m\n\u001b[32m----> \u001b[39m\u001b[32m3\u001b[39m rows = \u001b[43mtrino\u001b[49m\u001b[43m.\u001b[49m\u001b[43mexecute\u001b[49m\u001b[43m(\u001b[49m\u001b[33;43m\"\"\"\u001b[39;49m\n\u001b[32m      4\u001b[39m \u001b[33;43mSELECT *\u001b[39;49m\n\u001b[32m      5\u001b[39m \u001b[33;43mFROM iceberg.default.bank_transfers\u001b[39;49m\n\u001b[32m      6\u001b[39m \u001b[33;43m\"\"\"\u001b[39;49m\u001b[43m)\u001b[49m.fetchall()\n\u001b[32m      8\u001b[39m \u001b[38;5;28;01mfor\u001b[39;00m row \u001b[38;5;129;01min\u001b[39;00m rows:\n\u001b[32m      9\u001b[39m     \u001b[38;5;28mprint\u001b[39m(row)\n",
      "\u001b[36mFile \u001b[39m\u001b[32m/usr/local/lib/python3.12/site-packages/trino/dbapi.py:614\u001b[39m, in \u001b[36mCursor.execute\u001b[39m\u001b[34m(self, operation, params)\u001b[39m\n\u001b[32m    611\u001b[39m \u001b[38;5;28;01melse\u001b[39;00m:\n\u001b[32m    612\u001b[39m     \u001b[38;5;28mself\u001b[39m._query = trino.client.TrinoQuery(\u001b[38;5;28mself\u001b[39m._request, query=operation,\n\u001b[32m    613\u001b[39m                                           legacy_primitive_types=\u001b[38;5;28mself\u001b[39m._legacy_primitive_types)\n\u001b[32m--> \u001b[39m\u001b[32m614\u001b[39m     \u001b[38;5;28mself\u001b[39m._iterator = \u001b[38;5;28miter\u001b[39m(\u001b[38;5;28;43mself\u001b[39;49m\u001b[43m.\u001b[49m\u001b[43m_query\u001b[49m\u001b[43m.\u001b[49m\u001b[43mexecute\u001b[49m\u001b[43m(\u001b[49m\u001b[43m)\u001b[49m)\n\u001b[32m    615\u001b[39m \u001b[38;5;28;01mreturn\u001b[39;00m \u001b[38;5;28mself\u001b[39m\n",
      "\u001b[36mFile \u001b[39m\u001b[32m/usr/local/lib/python3.12/site-packages/trino/client.py:900\u001b[39m, in \u001b[36mTrinoQuery.execute\u001b[39m\u001b[34m(self, additional_http_headers)\u001b[39m\n\u001b[32m    898\u001b[39m \u001b[38;5;66;03m# Execute should block until at least one row is received or query is finished or cancelled\u001b[39;00m\n\u001b[32m    899\u001b[39m \u001b[38;5;28;01mwhile\u001b[39;00m \u001b[38;5;129;01mnot\u001b[39;00m \u001b[38;5;28mself\u001b[39m.finished \u001b[38;5;129;01mand\u001b[39;00m \u001b[38;5;129;01mnot\u001b[39;00m \u001b[38;5;28mself\u001b[39m.cancelled \u001b[38;5;129;01mand\u001b[39;00m \u001b[38;5;28mlen\u001b[39m(\u001b[38;5;28mself\u001b[39m._result.rows) == \u001b[32m0\u001b[39m:\n\u001b[32m--> \u001b[39m\u001b[32m900\u001b[39m     \u001b[38;5;28mself\u001b[39m._result.rows += \u001b[38;5;28;43mself\u001b[39;49m\u001b[43m.\u001b[49m\u001b[43mfetch\u001b[49m\u001b[43m(\u001b[49m\u001b[43m)\u001b[49m\n\u001b[32m    901\u001b[39m \u001b[38;5;28;01mreturn\u001b[39;00m \u001b[38;5;28mself\u001b[39m._result\n",
      "\u001b[36mFile \u001b[39m\u001b[32m/usr/local/lib/python3.12/site-packages/trino/client.py:920\u001b[39m, in \u001b[36mTrinoQuery.fetch\u001b[39m\u001b[34m(self)\u001b[39m\n\u001b[32m    918\u001b[39m \u001b[38;5;28;01mexcept\u001b[39;00m requests.exceptions.RequestException \u001b[38;5;28;01mas\u001b[39;00m e:\n\u001b[32m    919\u001b[39m     \u001b[38;5;28;01mraise\u001b[39;00m trino.exceptions.TrinoConnectionError(\u001b[33m\"\u001b[39m\u001b[33mfailed to fetch: \u001b[39m\u001b[38;5;132;01m{}\u001b[39;00m\u001b[33m\"\u001b[39m.format(e))\n\u001b[32m--> \u001b[39m\u001b[32m920\u001b[39m status = \u001b[38;5;28;43mself\u001b[39;49m\u001b[43m.\u001b[49m\u001b[43m_request\u001b[49m\u001b[43m.\u001b[49m\u001b[43mprocess\u001b[49m\u001b[43m(\u001b[49m\u001b[43mresponse\u001b[49m\u001b[43m)\u001b[49m\n\u001b[32m    921\u001b[39m \u001b[38;5;28mself\u001b[39m._update_state(status)\n\u001b[32m    922\u001b[39m \u001b[38;5;28;01mif\u001b[39;00m status.next_uri \u001b[38;5;129;01mis\u001b[39;00m \u001b[38;5;28;01mNone\u001b[39;00m:\n",
      "\u001b[36mFile \u001b[39m\u001b[32m/usr/local/lib/python3.12/site-packages/trino/client.py:689\u001b[39m, in \u001b[36mTrinoRequest.process\u001b[39m\u001b[34m(self, http_response)\u001b[39m\n\u001b[32m    687\u001b[39m response = http_response.json()\n\u001b[32m    688\u001b[39m \u001b[38;5;28;01mif\u001b[39;00m \u001b[33m\"\u001b[39m\u001b[33merror\u001b[39m\u001b[33m\"\u001b[39m \u001b[38;5;129;01min\u001b[39;00m response \u001b[38;5;129;01mand\u001b[39;00m response[\u001b[33m\"\u001b[39m\u001b[33merror\u001b[39m\u001b[33m\"\u001b[39m]:\n\u001b[32m--> \u001b[39m\u001b[32m689\u001b[39m     \u001b[38;5;28;01mraise\u001b[39;00m \u001b[38;5;28mself\u001b[39m._process_error(response[\u001b[33m\"\u001b[39m\u001b[33merror\u001b[39m\u001b[33m\"\u001b[39m], response.get(\u001b[33m\"\u001b[39m\u001b[33mid\u001b[39m\u001b[33m\"\u001b[39m))\n\u001b[32m    691\u001b[39m \u001b[38;5;28;01mif\u001b[39;00m constants.HEADER_CLEAR_SESSION \u001b[38;5;129;01min\u001b[39;00m http_response.headers:\n\u001b[32m    692\u001b[39m     \u001b[38;5;28;01mfor\u001b[39;00m prop \u001b[38;5;129;01min\u001b[39;00m get_header_values(\n\u001b[32m    693\u001b[39m         http_response.headers, constants.HEADER_CLEAR_SESSION\n\u001b[32m    694\u001b[39m     ):\n",
      "\u001b[31mTrinoQueryError\u001b[39m: TrinoQueryError(type=INTERNAL_ERROR, name=GENERIC_INTERNAL_ERROR, message=\"io.trino.spi.TrinoException: Error processing metadata for table default.bank_transfers\", query_id=20250310_233914_00000_wq4ht)"
     ]
    }
   ],
   "source": [
    "# select all data in the table\n",
    "\n",
    "rows = trino.execute(\"\"\"\n",
    "SELECT *\n",
    "FROM iceberg.default.bank_transfers\n",
    "\"\"\").fetchall()\n",
    "\n",
    "for row in rows:\n",
    "    print(row)"
   ]
  },
  {
   "cell_type": "code",
   "execution_count": 3,
   "id": "c3d6b513",
   "metadata": {
    "scrolled": true
   },
   "outputs": [
    {
     "name": "stdout",
     "output_type": "stream",
     "text": [
      "['made_current_at', 'timestamp(3) with time zone', '', '']\n",
      "['snapshot_id', 'bigint', '', '']\n",
      "['parent_id', 'bigint', '', '']\n",
      "['is_current_ancestor', 'boolean', '', '']\n",
      "\n",
      "[datetime.datetime(2025, 3, 10, 23, 48, 3, 863000, tzinfo=zoneinfo.ZoneInfo(key='Europe/Berlin')), 2522143264380241787, None, True]\n"
     ]
    }
   ],
   "source": [
    "# query table history\n",
    "\n",
    "cols = trino.execute(\"\"\"\n",
    "SHOW COLUMNS\n",
    "FROM iceberg.default.\"bank_transfers$history\"\n",
    "\"\"\").fetchall()\n",
    "\n",
    "rows = trino.execute(\"\"\"\n",
    "SELECT *\n",
    "FROM iceberg.default.\"bank_transfers$history\"\n",
    "ORDER BY made_current_at\n",
    "\"\"\").fetchall()\n",
    "\n",
    "for col in cols:\n",
    "    print(col)\n",
    "\n",
    "print(\"\")\n",
    "    \n",
    "for row in rows:\n",
    "    print(row)"
   ]
  },
  {
   "cell_type": "code",
   "execution_count": null,
   "id": "a9694256",
   "metadata": {},
   "outputs": [],
   "source": [
    "# query table snapshots\n",
    "\n",
    "cols = trino.execute(\"\"\"\n",
    "SHOW COLUMNS\n",
    "FROM iceberg.default.\"bank_transfers$snapshots\"\n",
    "\"\"\").fetchall()\n",
    "\n",
    "rows = trino.execute(\"\"\"\n",
    "SELECT *\n",
    "FROM iceberg.default.\"bank_transfers$snapshots\"\n",
    "ORDER BY committed_at\n",
    "\"\"\").fetchall()\n",
    "\n",
    "\n",
    "for col in cols:\n",
    "    print(col)\n",
    "\n",
    "print(\"\")\n",
    "    \n",
    "for row in rows:\n",
    "    print(row)"
   ]
  },
  {
   "cell_type": "code",
   "execution_count": null,
   "id": "68bbb93e",
   "metadata": {},
   "outputs": [],
   "source": [
    "# query a particular snapshot\n",
    "\n",
    "rows = trino.execute(\"\"\"\n",
    "SELECT * FROM iceberg.default.bank_transfers\n",
    "FOR VERSION AS OF 3676091413992867389\n",
    "ORDER BY id\n",
    "\"\"\").fetchall()\n",
    "\n",
    "for row in rows:\n",
    "    print(row)"
   ]
  },
  {
   "cell_type": "code",
   "execution_count": null,
   "id": "825cd9c1",
   "metadata": {},
   "outputs": [],
   "source": [
    "# query table manifests\n",
    "\n",
    "cols = trino.execute(\"\"\"\n",
    "SHOW COLUMNS\n",
    "FROM iceberg.default.\"bank_transfers$manifests\"\n",
    "\"\"\").fetchall()\n",
    "\n",
    "rows = trino.execute(\"\"\"\n",
    "SELECT *\n",
    "FROM iceberg.default.\"bank_transfers$manifests\"\n",
    "\"\"\").fetchall()\n",
    "\n",
    "\n",
    "for col in cols:\n",
    "    print(col)\n",
    "\n",
    "print(\"\")\n",
    "    \n",
    "for row in rows:\n",
    "    print(row)"
   ]
  },
  {
   "cell_type": "code",
   "execution_count": null,
   "id": "6a26dcc7",
   "metadata": {},
   "outputs": [],
   "source": [
    "# query table partitions\n",
    "\n",
    "cols = trino.execute(\"\"\"\n",
    "SHOW COLUMNS\n",
    "FROM iceberg.default.\"bank_transfers$partitions\"\n",
    "\"\"\").fetchall()\n",
    "\n",
    "rows = trino.execute(\"\"\"\n",
    "SELECT *\n",
    "FROM iceberg.default.\"bank_transfers$partitions\"\n",
    "\"\"\").fetchall()\n",
    "\n",
    "\n",
    "for col in cols:\n",
    "    print(col)\n",
    "\n",
    "print(\"\")\n",
    "    \n",
    "for row in rows:\n",
    "    print(row)"
   ]
  }
 ],
 "metadata": {
  "kernelspec": {
   "display_name": "Python 3 (ipykernel)",
   "language": "python",
   "name": "python3"
  },
  "language_info": {
   "codemirror_mode": {
    "name": "ipython",
    "version": 3
   },
   "file_extension": ".py",
   "mimetype": "text/x-python",
   "name": "python",
   "nbconvert_exporter": "python",
   "pygments_lexer": "ipython3",
   "version": "3.12.9"
  }
 },
 "nbformat": 4,
 "nbformat_minor": 5
}
