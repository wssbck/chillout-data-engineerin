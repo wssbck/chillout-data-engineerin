{
 "cells": [
  {
   "cell_type": "code",
   "execution_count": 4,
   "id": "59027d32",
   "metadata": {
    "scrolled": true
   },
   "outputs": [],
   "source": [
    "# define Spark client\n",
    "\n",
    "from pyspark.sql import Row\n",
    "from pyspark.sql import SparkSession\n",
    "\n",
    "\n",
    "spark = (\n",
    "    SparkSession.builder\n",
    "        .config(\"spark.sql.extensions\", \"org.projectnessie.spark.extensions.NessieSparkSessionExtensions, org.apache.iceberg.spark.extensions.IcebergSparkSessionExtensions\")\n",
    "        #.config(\"spark.sql.warehouse.dir\", \"/opt/warehouse/iceberg\")\n",
    "        .config(\"spark.sql.catalog.iceberg\", \"org.apache.iceberg.spark.SparkCatalog\")    \n",
    "        .config(\"spark.sql.catalog.iceberg.warehouse\", \"file:///opt/warehouse/iceberg\")\n",
    "        .config(\"spark.sql.catalog.iceberg.type\", \"nessie\")\n",
    "        #.config(\"spark.sql.catalog.iceberg.type\", \"rest\")\n",
    "        .config(\"spark.sql.catalog.iceberg.uri\", \"http://localhost:19120/api/v2\")\n",
    "        #.config(\"spark.sql.catalog.iceberg.uri\", \"http://nessie:19120/iceberg/main/\")\n",
    "        .config(\"spark.sql.catalog.iceberg.ref\", \"main\")\n",
    "        .config(\"spark.sql.catalog.iceberg.cache-enabled\", False)\n",
    "        .getOrCreate()\n",
    ")\n",
    "\n",
    "spark.sparkContext.setLogLevel('ERROR')"
   ]
  },
  {
   "cell_type": "code",
   "execution_count": 2,
   "id": "f7fc267e",
   "metadata": {},
   "outputs": [
    {
     "data": {
      "text/plain": [
       "DataFrame[]"
      ]
     },
     "execution_count": 2,
     "metadata": {},
     "output_type": "execute_result"
    }
   ],
   "source": [
    "# clean the table if it already exists\n",
    "\n",
    "spark.sql(\"\"\"\n",
    "DROP TABLE IF EXISTS iceberg.default.bank_transfers PURGE\n",
    "\"\"\")"
   ]
  },
  {
   "cell_type": "code",
   "execution_count": 5,
   "id": "f8383ab6",
   "metadata": {},
   "outputs": [
    {
     "ename": "IllegalArgumentException",
     "evalue": "Location for ICEBERG_TABLE 'default.bank_transfers' cannot be associated with any configured object storage location: Unknown or unsupported scheme: file",
     "output_type": "error",
     "traceback": [
      "\u001b[31m---------------------------------------------------------------------------\u001b[39m",
      "\u001b[31mIllegalArgumentException\u001b[39m                  Traceback (most recent call last)",
      "\u001b[36mCell\u001b[39m\u001b[36m \u001b[39m\u001b[32mIn[5]\u001b[39m\u001b[32m, line 3\u001b[39m\n\u001b[32m      1\u001b[39m \u001b[38;5;66;03m# create the table we will use in further excercises\u001b[39;00m\n\u001b[32m----> \u001b[39m\u001b[32m3\u001b[39m \u001b[43mspark\u001b[49m\u001b[43m.\u001b[49m\u001b[43msql\u001b[49m\u001b[43m(\u001b[49m\u001b[33;43m\"\"\"\u001b[39;49m\n\u001b[32m      4\u001b[39m \u001b[33;43mCREATE TABLE IF NOT EXISTS iceberg.default.bank_transfers (\u001b[39;49m\n\u001b[32m      5\u001b[39m \u001b[33;43m    id bigint COMMENT \u001b[39;49m\u001b[33;43m'\u001b[39;49m\u001b[33;43mtransfer id\u001b[39;49m\u001b[33;43m'\u001b[39;49m\u001b[33;43m,\u001b[39;49m\n\u001b[32m      6\u001b[39m \u001b[33;43m    amount int COMMENT \u001b[39;49m\u001b[33;43m'\u001b[39;49m\u001b[33;43mtransferred amount, expressed in cents\u001b[39;49m\u001b[33;43m'\u001b[39;49m\u001b[33;43m,\u001b[39;49m\n\u001b[32m      7\u001b[39m \u001b[33;43m    transferred_from string COMMENT \u001b[39;49m\u001b[33;43m'\u001b[39;49m\u001b[33;43minitiator of the transfer\u001b[39;49m\u001b[33;43m'\u001b[39;49m\u001b[33;43m,\u001b[39;49m\n\u001b[32m      8\u001b[39m \u001b[33;43m    transferred_to string COMMENT \u001b[39;49m\u001b[33;43m'\u001b[39;49m\u001b[33;43mreceiver of the transfer\u001b[39;49m\u001b[33;43m'\u001b[39;49m\u001b[33;43m,\u001b[39;49m\n\u001b[32m      9\u001b[39m \u001b[33;43m    timestamp timestamp COMMENT \u001b[39;49m\u001b[33;43m'\u001b[39;49m\u001b[33;43mtime of the transfer\u001b[39;49m\u001b[33;43m'\u001b[39;49m\n\u001b[32m     10\u001b[39m \u001b[33;43m)\u001b[39;49m\n\u001b[32m     11\u001b[39m \u001b[33;43mPARTITIONED BY (years(timestamp))\u001b[39;49m\n\u001b[32m     12\u001b[39m \u001b[33;43mTBLPROPERTIES (\u001b[39;49m\u001b[33;43m'\u001b[39;49m\u001b[33;43mformat-version\u001b[39;49m\u001b[33;43m'\u001b[39;49m\u001b[33;43m=\u001b[39;49m\u001b[33;43m'\u001b[39;49m\u001b[33;43m2\u001b[39;49m\u001b[33;43m'\u001b[39;49m\u001b[33;43m)\u001b[39;49m\n\u001b[32m     13\u001b[39m \u001b[33;43m\"\"\"\u001b[39;49m\u001b[43m)\u001b[49m\n",
      "\u001b[36mFile \u001b[39m\u001b[32m/usr/local/lib/python3.12/site-packages/pyspark/sql/session.py:1631\u001b[39m, in \u001b[36mSparkSession.sql\u001b[39m\u001b[34m(self, sqlQuery, args, **kwargs)\u001b[39m\n\u001b[32m   1627\u001b[39m         \u001b[38;5;28;01massert\u001b[39;00m \u001b[38;5;28mself\u001b[39m._jvm \u001b[38;5;129;01mis\u001b[39;00m \u001b[38;5;129;01mnot\u001b[39;00m \u001b[38;5;28;01mNone\u001b[39;00m\n\u001b[32m   1628\u001b[39m         litArgs = \u001b[38;5;28mself\u001b[39m._jvm.PythonUtils.toArray(\n\u001b[32m   1629\u001b[39m             [_to_java_column(lit(v)) \u001b[38;5;28;01mfor\u001b[39;00m v \u001b[38;5;129;01min\u001b[39;00m (args \u001b[38;5;129;01mor\u001b[39;00m [])]\n\u001b[32m   1630\u001b[39m         )\n\u001b[32m-> \u001b[39m\u001b[32m1631\u001b[39m     \u001b[38;5;28;01mreturn\u001b[39;00m DataFrame(\u001b[38;5;28;43mself\u001b[39;49m\u001b[43m.\u001b[49m\u001b[43m_jsparkSession\u001b[49m\u001b[43m.\u001b[49m\u001b[43msql\u001b[49m\u001b[43m(\u001b[49m\u001b[43msqlQuery\u001b[49m\u001b[43m,\u001b[49m\u001b[43m \u001b[49m\u001b[43mlitArgs\u001b[49m\u001b[43m)\u001b[49m, \u001b[38;5;28mself\u001b[39m)\n\u001b[32m   1632\u001b[39m \u001b[38;5;28;01mfinally\u001b[39;00m:\n\u001b[32m   1633\u001b[39m     \u001b[38;5;28;01mif\u001b[39;00m \u001b[38;5;28mlen\u001b[39m(kwargs) > \u001b[32m0\u001b[39m:\n",
      "\u001b[36mFile \u001b[39m\u001b[32m/usr/local/lib/python3.12/site-packages/py4j/java_gateway.py:1322\u001b[39m, in \u001b[36mJavaMember.__call__\u001b[39m\u001b[34m(self, *args)\u001b[39m\n\u001b[32m   1316\u001b[39m command = proto.CALL_COMMAND_NAME +\\\n\u001b[32m   1317\u001b[39m     \u001b[38;5;28mself\u001b[39m.command_header +\\\n\u001b[32m   1318\u001b[39m     args_command +\\\n\u001b[32m   1319\u001b[39m     proto.END_COMMAND_PART\n\u001b[32m   1321\u001b[39m answer = \u001b[38;5;28mself\u001b[39m.gateway_client.send_command(command)\n\u001b[32m-> \u001b[39m\u001b[32m1322\u001b[39m return_value = \u001b[43mget_return_value\u001b[49m\u001b[43m(\u001b[49m\n\u001b[32m   1323\u001b[39m \u001b[43m    \u001b[49m\u001b[43manswer\u001b[49m\u001b[43m,\u001b[49m\u001b[43m \u001b[49m\u001b[38;5;28;43mself\u001b[39;49m\u001b[43m.\u001b[49m\u001b[43mgateway_client\u001b[49m\u001b[43m,\u001b[49m\u001b[43m \u001b[49m\u001b[38;5;28;43mself\u001b[39;49m\u001b[43m.\u001b[49m\u001b[43mtarget_id\u001b[49m\u001b[43m,\u001b[49m\u001b[43m \u001b[49m\u001b[38;5;28;43mself\u001b[39;49m\u001b[43m.\u001b[49m\u001b[43mname\u001b[49m\u001b[43m)\u001b[49m\n\u001b[32m   1325\u001b[39m \u001b[38;5;28;01mfor\u001b[39;00m temp_arg \u001b[38;5;129;01min\u001b[39;00m temp_args:\n\u001b[32m   1326\u001b[39m     \u001b[38;5;28;01mif\u001b[39;00m \u001b[38;5;28mhasattr\u001b[39m(temp_arg, \u001b[33m\"\u001b[39m\u001b[33m_detach\u001b[39m\u001b[33m\"\u001b[39m):\n",
      "\u001b[36mFile \u001b[39m\u001b[32m/usr/local/lib/python3.12/site-packages/pyspark/errors/exceptions/captured.py:185\u001b[39m, in \u001b[36mcapture_sql_exception.<locals>.deco\u001b[39m\u001b[34m(*a, **kw)\u001b[39m\n\u001b[32m    181\u001b[39m converted = convert_exception(e.java_exception)\n\u001b[32m    182\u001b[39m \u001b[38;5;28;01mif\u001b[39;00m \u001b[38;5;129;01mnot\u001b[39;00m \u001b[38;5;28misinstance\u001b[39m(converted, UnknownException):\n\u001b[32m    183\u001b[39m     \u001b[38;5;66;03m# Hide where the exception came from that shows a non-Pythonic\u001b[39;00m\n\u001b[32m    184\u001b[39m     \u001b[38;5;66;03m# JVM exception message.\u001b[39;00m\n\u001b[32m--> \u001b[39m\u001b[32m185\u001b[39m     \u001b[38;5;28;01mraise\u001b[39;00m converted \u001b[38;5;28;01mfrom\u001b[39;00m\u001b[38;5;250m \u001b[39m\u001b[38;5;28;01mNone\u001b[39;00m\n\u001b[32m    186\u001b[39m \u001b[38;5;28;01melse\u001b[39;00m:\n\u001b[32m    187\u001b[39m     \u001b[38;5;28;01mraise\u001b[39;00m\n",
      "\u001b[31mIllegalArgumentException\u001b[39m: Location for ICEBERG_TABLE 'default.bank_transfers' cannot be associated with any configured object storage location: Unknown or unsupported scheme: file"
     ]
    }
   ],
   "source": [
    "# create the table we will use in further excercises\n",
    "\n",
    "spark.sql(\"\"\"\n",
    "CREATE TABLE IF NOT EXISTS iceberg.default.bank_transfers (\n",
    "    id bigint COMMENT 'transfer id',\n",
    "    amount int COMMENT 'transferred amount, expressed in cents',\n",
    "    transferred_from string COMMENT 'initiator of the transfer',\n",
    "    transferred_to string COMMENT 'receiver of the transfer',\n",
    "    timestamp timestamp COMMENT 'time of the transfer'\n",
    ")\n",
    "PARTITIONED BY (years(timestamp))\n",
    "TBLPROPERTIES ('format-version'='2')\n",
    "\"\"\")"
   ]
  },
  {
   "cell_type": "code",
   "execution_count": null,
   "id": "70480ed2",
   "metadata": {},
   "outputs": [],
   "source": [
    "# describe the created table\n",
    "\n",
    "spark.sql(\"\"\"\n",
    "DESCRIBE TABLE EXTENDED iceberg.default.bank_transfers\n",
    "\"\"\").show(50, False)"
   ]
  },
  {
   "cell_type": "code",
   "execution_count": null,
   "id": "f0e7d879",
   "metadata": {},
   "outputs": [],
   "source": [
    "# insert data into the table using SQL\n",
    "\n",
    "spark.sql(\"\"\"\n",
    "INSERT INTO iceberg.default.bank_transfers VALUES\n",
    "    (1, 12000, \"ACME INC\",   \"ASTROCORP\",  TIMESTAMP\"2022-11-14T00:55:00\"),\n",
    "    (2, 24000, \"John Doe\",   \"Jane Doe\",   TIMESTAMP\"2022-11-15T02:11:00\"),\n",
    "    (3,   500, \"Deborah S.\", \"Michael C.\", TIMESTAMP\"2022-11-17T16:25:07\")\n",
    "\"\"\")\n",
    "\n",
    "# BONUS: Try inserting more data from this or another cell"
   ]
  },
  {
   "cell_type": "code",
   "execution_count": null,
   "id": "e812571b",
   "metadata": {},
   "outputs": [],
   "source": [
    "# insert more data to the table, using the DataFrame API\n",
    "\n",
    "from datetime import datetime\n",
    "from pyspark.sql import Row\n",
    "from pyspark.sql.functions import to_timestamp\n",
    "\n",
    "\n",
    "df = spark.createDataFrame([\n",
    "    Row(\n",
    "        id=4,\n",
    "        amount=200,\n",
    "        transferred_from=\"CTX Inc.\",\n",
    "        transferred_to=\"XYZ GmbH\",\n",
    "        timestamp=datetime.fromisoformat(\"2022-12-01T07:32:18\")\n",
    "    ),\n",
    "])\n",
    "\n",
    "df.writeTo(\"iceberg.default.bank_transfers\").append()\n",
    "\n",
    "# BONUS: Try inserting more data from this or another cell"
   ]
  },
  {
   "cell_type": "code",
   "execution_count": null,
   "id": "87c20981",
   "metadata": {},
   "outputs": [],
   "source": [
    "# check the correctness of the inserted data\n",
    "\n",
    "spark.sql(\"\"\"\n",
    "SELECT *\n",
    "FROM iceberg.default.bank_transfers\n",
    "ORDER BY id\n",
    "\"\"\").show()"
   ]
  },
  {
   "cell_type": "code",
   "execution_count": null,
   "id": "408e6d96",
   "metadata": {},
   "outputs": [],
   "source": [
    "# delete some data and verify that the table does not contain it anymore\n",
    "\n",
    "spark.sql(\"\"\"\n",
    "DELETE FROM iceberg.default.bank_transfers\n",
    "WHERE id=1\n",
    "\"\"\")\n",
    "\n",
    "spark.sql(\"\"\"\n",
    "SELECT *\n",
    "FROM iceberg.default.bank_transfers\n",
    "\"\"\").show()"
   ]
  },
  {
   "cell_type": "code",
   "execution_count": null,
   "id": "e266e4d5",
   "metadata": {},
   "outputs": [],
   "source": [
    "# query the table again, this time using Dataframe API\n",
    "\n",
    "df = spark.table(\"iceberg.default.bank_transfers\")\n",
    "df.show()"
   ]
  },
  {
   "cell_type": "code",
   "execution_count": null,
   "id": "d9bc19ce",
   "metadata": {},
   "outputs": [],
   "source": [
    "# list table partitions\n",
    "\n",
    "spark.sql(\"\"\"\n",
    "SELECT partition, record_count\n",
    "FROM iceberg.default.bank_transfers.partitions\n",
    "\"\"\").show(truncate=False)"
   ]
  },
  {
   "cell_type": "code",
   "execution_count": null,
   "id": "c27a4d54",
   "metadata": {},
   "outputs": [],
   "source": [
    "# query the history of table commits\n",
    "\n",
    "spark.sql(\"\"\"\n",
    "SELECT *\n",
    "FROM iceberg.default.bank_transfers.history\n",
    "\"\"\").show(truncate=False)"
   ]
  },
  {
   "cell_type": "code",
   "execution_count": null,
   "id": "5d0c19a5",
   "metadata": {},
   "outputs": [],
   "source": [
    "# query existing snapshots\n",
    "\n",
    "spark.sql(\"\"\"\n",
    "SELECT snapshot_id, manifest_list\n",
    "FROM iceberg.default.bank_transfers.snapshots\n",
    "\"\"\").show(truncate=False)\n",
    "\n",
    "# bonus: SELECT * to see all columns"
   ]
  },
  {
   "cell_type": "code",
   "execution_count": null,
   "id": "374df8e2",
   "metadata": {},
   "outputs": [],
   "source": [
    "# query existing manifests\n",
    "\n",
    "spark.sql(\"\"\"\n",
    "SELECT path\n",
    "FROM iceberg.default.bank_transfers.manifests\n",
    "\"\"\").show(truncate=False)\n",
    "\n",
    "# bonus: SELECT * to see all columns"
   ]
  },
  {
   "cell_type": "code",
   "execution_count": null,
   "id": "9a51905e",
   "metadata": {
    "scrolled": true
   },
   "outputs": [],
   "source": [
    "# query metadata log entries\n",
    "\n",
    "spark.sql(\"\"\"\n",
    "SELECT file\n",
    "FROM iceberg.default.bank_transfers.metadata_log_entries\n",
    "\"\"\").show(truncate=False)\n",
    "\n",
    "# bonus: SELECT * to see all columns"
   ]
  }
 ],
 "metadata": {
  "kernelspec": {
   "display_name": "Python 3 (ipykernel)",
   "language": "python",
   "name": "python3"
  },
  "language_info": {
   "codemirror_mode": {
    "name": "ipython",
    "version": 3
   },
   "file_extension": ".py",
   "mimetype": "text/x-python",
   "name": "python",
   "nbconvert_exporter": "python",
   "pygments_lexer": "ipython3",
   "version": "3.12.9"
  }
 },
 "nbformat": 4,
 "nbformat_minor": 5
}
