{
 "cells": [
  {
   "cell_type": "code",
   "execution_count": 1,
   "id": "59027d32",
   "metadata": {
    "scrolled": true
   },
   "outputs": [
    {
     "name": "stderr",
     "output_type": "stream",
     "text": [
      "Setting default log level to \"WARN\".\n",
      "To adjust logging level use sc.setLogLevel(newLevel). For SparkR, use setLogLevel(newLevel).\n"
     ]
    }
   ],
   "source": [
    "# define Spark client\n",
    "\n",
    "from pyspark.sql import Row\n",
    "from pyspark.sql import SparkSession\n",
    "\n",
    "\n",
    "spark = (\n",
    "    SparkSession.builder\n",
    "        .config(\n",
    "            \"spark.sql.extensions\",\n",
    "            \"org.projectnessie.spark.extensions.NessieSparkSessionExtensions, org.apache.iceberg.spark.extensions.IcebergSparkSessionExtensions\"\n",
    "        )\n",
    "        .config(\"spark.sql.catalog.iceberg\", \"org.apache.iceberg.spark.SparkCatalog\")\n",
    "        .config(\"spark.sql.catalog.iceberg.io-impl\", \"org.apache.iceberg.aws.s3.S3FileIO\")\n",
    "        .config(\"spark.sql.catalog.iceberg.type\", \"rest\")\n",
    "        .config(\"spark.sql.catalog.iceberg.uri\", \"http://nessie:19120/iceberg/main/\")\n",
    "        .config(\"spark.sql.catalog.iceberg.ref\", \"main\")\n",
    "        .config(\"spark.sql.catalog.iceberg.cache-enabled\", False)\n",
    "        .getOrCreate()\n",
    ")\n",
    "\n",
    "spark.sparkContext.setLogLevel('ERROR')"
   ]
  },
  {
   "cell_type": "code",
   "execution_count": 2,
   "id": "f7fc267e",
   "metadata": {},
   "outputs": [
    {
     "data": {
      "text/plain": [
       "DataFrame[]"
      ]
     },
     "execution_count": 2,
     "metadata": {},
     "output_type": "execute_result"
    }
   ],
   "source": [
    "# clean the table if it already exists\n",
    "\n",
    "spark.sql(\"\"\"\n",
    "DROP TABLE IF EXISTS iceberg.default.bank_transfers PURGE\n",
    "\"\"\")"
   ]
  },
  {
   "cell_type": "code",
   "execution_count": 3,
   "id": "69a491df-974f-4a3d-975d-6c7d1392cfd1",
   "metadata": {},
   "outputs": [
    {
     "data": {
      "text/plain": [
       "DataFrame[]"
      ]
     },
     "execution_count": 3,
     "metadata": {},
     "output_type": "execute_result"
    }
   ],
   "source": [
    "# create the default namespace in the catalog\n",
    "\n",
    "spark.sql(\"\"\"\n",
    "CREATE NAMESPACE IF NOT EXISTS iceberg.default\n",
    "\"\"\")"
   ]
  },
  {
   "cell_type": "code",
   "execution_count": 4,
   "id": "f8383ab6",
   "metadata": {},
   "outputs": [
    {
     "data": {
      "text/plain": [
       "DataFrame[]"
      ]
     },
     "execution_count": 4,
     "metadata": {},
     "output_type": "execute_result"
    }
   ],
   "source": [
    "# create the table we will use in further excercises\n",
    "\n",
    "spark.sql(\"\"\"\n",
    "CREATE TABLE IF NOT EXISTS iceberg.default.bank_transfers (\n",
    "    id bigint COMMENT 'transfer id',\n",
    "    amount int COMMENT 'transferred amount, expressed in cents',\n",
    "    transferred_from string COMMENT 'initiator of the transfer',\n",
    "    transferred_to string COMMENT 'receiver of the transfer',\n",
    "    timestamp timestamp COMMENT 'time of the transfer'\n",
    ")\n",
    "PARTITIONED BY (years(timestamp))\n",
    "TBLPROPERTIES ('format-version'='2', 'gc.enabled'='true')\n",
    "\"\"\")"
   ]
  },
  {
   "cell_type": "code",
   "execution_count": 5,
   "id": "70480ed2",
   "metadata": {},
   "outputs": [
    {
     "name": "stdout",
     "output_type": "stream",
     "text": [
      "+----------------------------+----------------------------------------------------------------------------------------------------------------------------------------------------------------------------------------------------------------------------------------------------------------------------------------------------+--------------------------------------+\n",
      "|col_name                    |data_type                                                                                                                                                                                                                                                                                           |comment                               |\n",
      "+----------------------------+----------------------------------------------------------------------------------------------------------------------------------------------------------------------------------------------------------------------------------------------------------------------------------------------------+--------------------------------------+\n",
      "|id                          |bigint                                                                                                                                                                                                                                                                                              |transfer id                           |\n",
      "|amount                      |int                                                                                                                                                                                                                                                                                                 |transferred amount, expressed in cents|\n",
      "|transferred_from            |string                                                                                                                                                                                                                                                                                              |initiator of the transfer             |\n",
      "|transferred_to              |string                                                                                                                                                                                                                                                                                              |receiver of the transfer              |\n",
      "|timestamp                   |timestamp                                                                                                                                                                                                                                                                                           |time of the transfer                  |\n",
      "|                            |                                                                                                                                                                                                                                                                                                    |                                      |\n",
      "|# Partitioning              |                                                                                                                                                                                                                                                                                                    |                                      |\n",
      "|Part 0                      |years(timestamp)                                                                                                                                                                                                                                                                                    |                                      |\n",
      "|                            |                                                                                                                                                                                                                                                                                                    |                                      |\n",
      "|# Metadata Columns          |                                                                                                                                                                                                                                                                                                    |                                      |\n",
      "|_spec_id                    |int                                                                                                                                                                                                                                                                                                 |                                      |\n",
      "|_partition                  |struct<timestamp_year:int>                                                                                                                                                                                                                                                                          |                                      |\n",
      "|_file                       |string                                                                                                                                                                                                                                                                                              |                                      |\n",
      "|_pos                        |bigint                                                                                                                                                                                                                                                                                              |                                      |\n",
      "|_deleted                    |boolean                                                                                                                                                                                                                                                                                             |                                      |\n",
      "|                            |                                                                                                                                                                                                                                                                                                    |                                      |\n",
      "|# Detailed Table Information|                                                                                                                                                                                                                                                                                                    |                                      |\n",
      "|Name                        |iceberg.default.bank_transfers                                                                                                                                                                                                                                                                      |                                      |\n",
      "|Type                        |MANAGED                                                                                                                                                                                                                                                                                             |                                      |\n",
      "|Location                    |s3://warehouse/iceberg/default/bank_transfers_4219e529-f925-4da7-b244-c0caf7c8554e                                                                                                                                                                                                                  |                                      |\n",
      "|Provider                    |iceberg                                                                                                                                                                                                                                                                                             |                                      |\n",
      "|Owner                       |root                                                                                                                                                                                                                                                                                                |                                      |\n",
      "|Table Properties            |[created-at=2025-03-10T22:41:23.521297886Z,current-snapshot-id=none,format=iceberg/parquet,format-version=2,gc.enabled=true,nessie.catalog.content-id=4168247c-3e74-40ff-8327-f3303303bfec,nessie.commit.id=dfd0537088e7458874b8a7de681b60cbac1073451c692ba4d4f27383d7dae6e9,nessie.commit.ref=main]|                                      |\n",
      "+----------------------------+----------------------------------------------------------------------------------------------------------------------------------------------------------------------------------------------------------------------------------------------------------------------------------------------------+--------------------------------------+\n",
      "\n"
     ]
    }
   ],
   "source": [
    "# describe the created table\n",
    "\n",
    "spark.sql(\"\"\"\n",
    "DESCRIBE TABLE EXTENDED iceberg.default.bank_transfers\n",
    "\"\"\").show(50, False)"
   ]
  },
  {
   "cell_type": "code",
   "execution_count": 6,
   "id": "f0e7d879",
   "metadata": {},
   "outputs": [
    {
     "name": "stderr",
     "output_type": "stream",
     "text": [
      "                                                                                "
     ]
    },
    {
     "data": {
      "text/plain": [
       "DataFrame[]"
      ]
     },
     "execution_count": 6,
     "metadata": {},
     "output_type": "execute_result"
    }
   ],
   "source": [
    "# insert data into the table using SQL\n",
    "\n",
    "spark.sql(\"\"\"\n",
    "INSERT INTO iceberg.default.bank_transfers VALUES\n",
    "    (1, 12000, \"ACME INC\",   \"ASTROCORP\",  TIMESTAMP\"2022-11-14T00:55:00\"),\n",
    "    (2, 24000, \"John Doe\",   \"Jane Doe\",   TIMESTAMP\"2022-11-15T02:11:00\"),\n",
    "    (3,   500, \"Deborah S.\", \"Michael C.\", TIMESTAMP\"2022-11-17T16:25:07\")\n",
    "\"\"\")\n",
    "\n",
    "# BONUS: Try inserting more data from this or another cell"
   ]
  },
  {
   "cell_type": "code",
   "execution_count": 7,
   "id": "e812571b",
   "metadata": {},
   "outputs": [
    {
     "name": "stderr",
     "output_type": "stream",
     "text": [
      "                                                                                "
     ]
    }
   ],
   "source": [
    "# insert more data to the table, using the DataFrame API\n",
    "\n",
    "from datetime import datetime\n",
    "from pyspark.sql import Row\n",
    "from pyspark.sql.functions import to_timestamp\n",
    "\n",
    "\n",
    "df = spark.createDataFrame([\n",
    "    Row(\n",
    "        id=4,\n",
    "        amount=200,\n",
    "        transferred_from=\"CTX Inc.\",\n",
    "        transferred_to=\"XYZ GmbH\",\n",
    "        timestamp=datetime.fromisoformat(\"2022-12-01T07:32:18\")\n",
    "    ),\n",
    "])\n",
    "\n",
    "df.writeTo(\"iceberg.default.bank_transfers\").append()\n",
    "\n",
    "# BONUS: Try inserting more data from this or another cell"
   ]
  },
  {
   "cell_type": "code",
   "execution_count": 8,
   "id": "87c20981",
   "metadata": {},
   "outputs": [
    {
     "name": "stdout",
     "output_type": "stream",
     "text": [
      "+---+------+----------------+--------------+-------------------+\n",
      "| id|amount|transferred_from|transferred_to|          timestamp|\n",
      "+---+------+----------------+--------------+-------------------+\n",
      "|  1| 12000|        ACME INC|     ASTROCORP|2022-11-14 00:55:00|\n",
      "|  2| 24000|        John Doe|      Jane Doe|2022-11-15 02:11:00|\n",
      "|  3|   500|      Deborah S.|    Michael C.|2022-11-17 16:25:07|\n",
      "|  4|   200|        CTX Inc.|      XYZ GmbH|2022-12-01 06:32:18|\n",
      "+---+------+----------------+--------------+-------------------+\n",
      "\n"
     ]
    }
   ],
   "source": [
    "# check the correctness of the inserted data\n",
    "\n",
    "spark.sql(\"\"\"\n",
    "SELECT *\n",
    "FROM iceberg.default.bank_transfers\n",
    "ORDER BY id\n",
    "\"\"\").show()"
   ]
  },
  {
   "cell_type": "code",
   "execution_count": 9,
   "id": "408e6d96",
   "metadata": {},
   "outputs": [
    {
     "name": "stdout",
     "output_type": "stream",
     "text": [
      "+---+------+----------------+--------------+-------------------+\n",
      "| id|amount|transferred_from|transferred_to|          timestamp|\n",
      "+---+------+----------------+--------------+-------------------+\n",
      "|  2| 24000|        John Doe|      Jane Doe|2022-11-15 02:11:00|\n",
      "|  3|   500|      Deborah S.|    Michael C.|2022-11-17 16:25:07|\n",
      "|  4|   200|        CTX Inc.|      XYZ GmbH|2022-12-01 06:32:18|\n",
      "+---+------+----------------+--------------+-------------------+\n",
      "\n"
     ]
    }
   ],
   "source": [
    "# delete some data and verify that the table does not contain it anymore\n",
    "\n",
    "spark.sql(\"\"\"\n",
    "DELETE FROM iceberg.default.bank_transfers\n",
    "WHERE id=1\n",
    "\"\"\")\n",
    "\n",
    "spark.sql(\"\"\"\n",
    "SELECT *\n",
    "FROM iceberg.default.bank_transfers\n",
    "\"\"\").show()"
   ]
  },
  {
   "cell_type": "code",
   "execution_count": 10,
   "id": "e266e4d5",
   "metadata": {},
   "outputs": [
    {
     "name": "stdout",
     "output_type": "stream",
     "text": [
      "+---+------+----------------+--------------+-------------------+\n",
      "| id|amount|transferred_from|transferred_to|          timestamp|\n",
      "+---+------+----------------+--------------+-------------------+\n",
      "|  4|   200|        CTX Inc.|      XYZ GmbH|2022-12-01 06:32:18|\n",
      "|  2| 24000|        John Doe|      Jane Doe|2022-11-15 02:11:00|\n",
      "|  3|   500|      Deborah S.|    Michael C.|2022-11-17 16:25:07|\n",
      "+---+------+----------------+--------------+-------------------+\n",
      "\n"
     ]
    }
   ],
   "source": [
    "# query the table again, this time using Dataframe API\n",
    "\n",
    "df = spark.table(\"iceberg.default.bank_transfers\")\n",
    "df.show()"
   ]
  },
  {
   "cell_type": "code",
   "execution_count": 11,
   "id": "d9bc19ce",
   "metadata": {},
   "outputs": [
    {
     "name": "stdout",
     "output_type": "stream",
     "text": [
      "+---------+------------+\n",
      "|partition|record_count|\n",
      "+---------+------------+\n",
      "|{52}     |3           |\n",
      "+---------+------------+\n",
      "\n"
     ]
    }
   ],
   "source": [
    "# list table partitions\n",
    "\n",
    "spark.sql(\"\"\"\n",
    "SELECT partition, record_count\n",
    "FROM iceberg.default.bank_transfers.partitions\n",
    "\"\"\").show(truncate=False)"
   ]
  },
  {
   "cell_type": "code",
   "execution_count": 12,
   "id": "c27a4d54",
   "metadata": {},
   "outputs": [
    {
     "name": "stdout",
     "output_type": "stream",
     "text": [
      "+-----------------------+-------------------+---------+-------------------+\n",
      "|made_current_at        |snapshot_id        |parent_id|is_current_ancestor|\n",
      "+-----------------------+-------------------+---------+-------------------+\n",
      "|2025-03-10 22:48:03.863|2522143264380241787|NULL     |true               |\n",
      "+-----------------------+-------------------+---------+-------------------+\n",
      "\n"
     ]
    }
   ],
   "source": [
    "# query the history of table commits\n",
    "\n",
    "spark.sql(\"\"\"\n",
    "SELECT *\n",
    "FROM iceberg.default.bank_transfers.history\n",
    "\"\"\").show(truncate=False)"
   ]
  },
  {
   "cell_type": "code",
   "execution_count": 13,
   "id": "5d0c19a5",
   "metadata": {},
   "outputs": [
    {
     "name": "stdout",
     "output_type": "stream",
     "text": [
      "+-------------------+----------------------------------------------------------------------------------------------------------------------------------------------------------------+\n",
      "|snapshot_id        |manifest_list                                                                                                                                                   |\n",
      "+-------------------+----------------------------------------------------------------------------------------------------------------------------------------------------------------+\n",
      "|2522143264380241787|s3://warehouse/iceberg/default/bank_transfers_4219e529-f925-4da7-b244-c0caf7c8554e/metadata/snap-2522143264380241787-1-010c4b1b-32be-4b52-871b-335ba28e8a8e.avro|\n",
      "+-------------------+----------------------------------------------------------------------------------------------------------------------------------------------------------------+\n",
      "\n"
     ]
    }
   ],
   "source": [
    "# query existing snapshots\n",
    "\n",
    "spark.sql(\"\"\"\n",
    "SELECT snapshot_id, manifest_list\n",
    "FROM iceberg.default.bank_transfers.snapshots\n",
    "\"\"\").show(truncate=False)\n",
    "\n",
    "# bonus: SELECT * to see all columns"
   ]
  },
  {
   "cell_type": "code",
   "execution_count": 14,
   "id": "374df8e2",
   "metadata": {},
   "outputs": [
    {
     "name": "stdout",
     "output_type": "stream",
     "text": [
      "+----------------------------------------------------------------------------------------------------------------------------------------+\n",
      "|path                                                                                                                                    |\n",
      "+----------------------------------------------------------------------------------------------------------------------------------------+\n",
      "|s3://warehouse/iceberg/default/bank_transfers_4219e529-f925-4da7-b244-c0caf7c8554e/metadata/010c4b1b-32be-4b52-871b-335ba28e8a8e-m1.avro|\n",
      "|s3://warehouse/iceberg/default/bank_transfers_4219e529-f925-4da7-b244-c0caf7c8554e/metadata/c57b065a-1480-489c-8150-524a9a3b36cf-m0.avro|\n",
      "|s3://warehouse/iceberg/default/bank_transfers_4219e529-f925-4da7-b244-c0caf7c8554e/metadata/010c4b1b-32be-4b52-871b-335ba28e8a8e-m0.avro|\n",
      "+----------------------------------------------------------------------------------------------------------------------------------------+\n",
      "\n"
     ]
    }
   ],
   "source": [
    "# query existing manifests\n",
    "\n",
    "spark.sql(\"\"\"\n",
    "SELECT path\n",
    "FROM iceberg.default.bank_transfers.manifests\n",
    "\"\"\").show(truncate=False)\n",
    "\n",
    "# bonus: SELECT * to see all columns"
   ]
  },
  {
   "cell_type": "code",
   "execution_count": 15,
   "id": "9a51905e",
   "metadata": {
    "scrolled": true
   },
   "outputs": [
    {
     "name": "stdout",
     "output_type": "stream",
     "text": [
      "+----------------------------------------------------------------------------------------------------------------------------------------------------+\n",
      "|file                                                                                                                                                |\n",
      "+----------------------------------------------------------------------------------------------------------------------------------------------------+\n",
      "|s3://warehouse/iceberg/default/bank_transfers_4219e529-f925-4da7-b244-c0caf7c8554e/metadata/00000-cd52f3da-2f05-477f-afea-71cb75fae332.metadata.json|\n",
      "+----------------------------------------------------------------------------------------------------------------------------------------------------+\n",
      "\n"
     ]
    }
   ],
   "source": [
    "# query metadata log entries\n",
    "\n",
    "spark.sql(\"\"\"\n",
    "SELECT file\n",
    "FROM iceberg.default.bank_transfers.metadata_log_entries\n",
    "\"\"\").show(truncate=False)\n",
    "\n",
    "# bonus: SELECT * to see all columns"
   ]
  }
 ],
 "metadata": {
  "kernelspec": {
   "display_name": "Python 3 (ipykernel)",
   "language": "python",
   "name": "python3"
  },
  "language_info": {
   "codemirror_mode": {
    "name": "ipython",
    "version": 3
   },
   "file_extension": ".py",
   "mimetype": "text/x-python",
   "name": "python",
   "nbconvert_exporter": "python",
   "pygments_lexer": "ipython3",
   "version": "3.12.9"
  }
 },
 "nbformat": 4,
 "nbformat_minor": 5
}
