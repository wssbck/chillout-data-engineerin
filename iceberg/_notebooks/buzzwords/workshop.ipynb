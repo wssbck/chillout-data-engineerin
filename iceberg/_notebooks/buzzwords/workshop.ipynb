{
 "cells": [
  {
   "cell_type": "code",
   "execution_count": null,
   "id": "2af9a0da-b545-4a20-a0ab-1d1b9c45b16d",
   "metadata": {},
   "outputs": [],
   "source": [
    "#\n",
    "# PREPARATIONS\n",
    "#"
   ]
  },
  {
   "cell_type": "code",
   "execution_count": null,
   "id": "c16b102c-c2d3-4fef-a284-a1ac29ece5b4",
   "metadata": {},
   "outputs": [],
   "source": [
    "# create the 'warehouse' S3 bucket\n",
    "\n",
    "import boto3\n",
    "\n",
    "\n",
    "s3_resource = boto3.resource('s3', \n",
    "    endpoint_url='http://minio:9000',\n",
    "    aws_access_key_id='minioadmin',\n",
    "    aws_secret_access_key='minioadmin',\n",
    "    aws_session_token=None,\n",
    "    config=boto3.session.Config(signature_version='s3v4'),\n",
    "    verify=False,\n",
    ")\n",
    "\n",
    "# if it fails with BucketAlreadyOwnedByYou, it means the bucket is already there\n",
    "try:\n",
    "    s3_resource.Bucket(\"warehouse\").create()\n",
    "except Exception as e:\n",
    "    print(e)"
   ]
  },
  {
   "cell_type": "code",
   "execution_count": null,
   "id": "3a4d7843-e361-4bf7-82b0-602f1fd927b5",
   "metadata": {},
   "outputs": [],
   "source": [
    "# bootstrap the catalog\n",
    "\n",
    "import requests\n",
    "\n",
    "\n",
    "r = requests.post(\"http://lakekeeper:8181/management/v1/bootstrap\", json={\"accept-terms-of-use\": True})\n",
    "r.json()"
   ]
  },
  {
   "cell_type": "code",
   "execution_count": null,
   "id": "1fe201fc-36f1-46da-a52f-be697aed37fc",
   "metadata": {},
   "outputs": [],
   "source": [
    "# initialise the 'iceberg' warehouse in Lakekeeper\n",
    "\n",
    "import requests\n",
    "\n",
    "\n",
    "payload = {\n",
    "  \"warehouse-name\": \"iceberg\",\n",
    "  \"project-id\": \"00000000-0000-0000-0000-000000000000\",\n",
    "  \"storage-profile\": {\n",
    "    \"type\": \"s3\",\n",
    "    \"bucket\": \"warehouse\",\n",
    "    \"key-prefix\": \"iceberg\",\n",
    "    \"assume-role-arn\": None,\n",
    "    \"endpoint\": \"http://minio:9000\",\n",
    "    \"region\": \"eu-central-1\",\n",
    "    \"path-style-access\": True,\n",
    "    \"flavor\": \"minio\",\n",
    "    \"sts-enabled\": True,\n",
    "  },\n",
    "  \"storage-credential\": {\n",
    "    \"type\": \"s3\",\n",
    "    \"credential-type\": \"access-key\",\n",
    "    \"aws-access-key-id\": \"minioadmin\",\n",
    "    \"aws-secret-access-key\": \"minioadmin\"\n",
    "  }\n",
    "}\n",
    "\n",
    "r = requests.post(\"http://lakekeeper:8181/management/v1/warehouse\", json=payload)\n",
    "r.json()"
   ]
  },
  {
   "cell_type": "code",
   "execution_count": null,
   "id": "6add62fa-7bc0-4470-b306-d9ee35d2a490",
   "metadata": {},
   "outputs": [],
   "source": [
    "# check the config of the created warehouse\n",
    "\n",
    "import requests\n",
    "\n",
    "\n",
    "r = requests.get(\"http://lakekeeper:8181/catalog/v1/config?warehouse=iceberg\")\n",
    "r.json()"
   ]
  },
  {
   "cell_type": "code",
   "execution_count": null,
   "id": "fd7d3dcb-63ff-42ed-9884-61bf7bff07db",
   "metadata": {},
   "outputs": [],
   "source": [
    "# check that Spark client works\n",
    "\n",
    "from pyspark.sql import SparkSession\n",
    "\n",
    "\n",
    "spark = (\n",
    "    SparkSession.builder\n",
    "        .config(\n",
    "            \"spark.sql.extensions\",\n",
    "            \"org.projectnessie.spark.extensions.NessieSparkSessionExtensions, org.apache.iceberg.spark.extensions.IcebergSparkSessionExtensions\"\n",
    "        )\n",
    "        .config(\"spark.sql.catalog.iceberg\", \"org.apache.iceberg.spark.SparkCatalog\")\n",
    "        .config(\"spark.sql.catalog.iceberg.io-impl\", \"org.apache.iceberg.aws.s3.S3FileIO\")\n",
    "        .config(\"spark.sql.catalog.iceberg.type\", \"rest\")\n",
    "        .config(\"spark.sql.catalog.iceberg.uri\", \"http://lakekeeper:8181/catalog/\")\n",
    "        .config(\"spark.sql.catalog.iceberg.warehouse\", \"iceberg\")\n",
    "        .config(\"spark.sql.catalog.iceberg.ref\", \"main\")\n",
    "        .config(\"spark.sql.catalog.iceberg.cache-enabled\", False)\n",
    "        .getOrCreate()\n",
    ")\n",
    "spark.sparkContext.setLogLevel('ERROR')\n",
    "\n",
    "spark.sql(\"\"\"\n",
    "    SHOW NAMESPACES FROM iceberg\n",
    "\"\"\").toPandas()"
   ]
  },
  {
   "cell_type": "code",
   "execution_count": null,
   "id": "935bac74-be6d-4f4d-b6ff-c2756c4c2402",
   "metadata": {},
   "outputs": [],
   "source": [
    "# check existence of pyiceberg config\n",
    "\n",
    "!cat .pyiceberg.yaml"
   ]
  },
  {
   "cell_type": "code",
   "execution_count": null,
   "id": "dc5da03d-de57-479b-a6ca-d935fd36c0ca",
   "metadata": {},
   "outputs": [],
   "source": [
    "# check if pyiceberg works\n",
    "\n",
    "from pyiceberg.catalog import load_catalog\n",
    "\n",
    "\n",
    "catalog = load_catalog(\"rest\")\n",
    "\n",
    "# recreate\n",
    "catalog.create_namespace(\"workshop\")\n",
    "catalog.list_namespaces()"
   ]
  },
  {
   "cell_type": "code",
   "execution_count": null,
   "id": "4161aa84-bb8f-43c6-9bed-ecd5bdd7aa3f",
   "metadata": {},
   "outputs": [],
   "source": [
    "#\n",
    "# TABLE DEFINITION\n",
    "#"
   ]
  },
  {
   "cell_type": "code",
   "execution_count": null,
   "id": "8f7f2e91-a3f6-40ae-94b1-684469d8fba7",
   "metadata": {},
   "outputs": [],
   "source": [
    "# cleanup if required\n",
    "\n",
    "spark.sql(\"\"\"\n",
    "DROP TABLE IF EXISTS iceberg.workshop.atable\n",
    "\"\"\")"
   ]
  },
  {
   "cell_type": "code",
   "execution_count": null,
   "id": "ba42307a-d4ad-4410-89be-41f9d6355db4",
   "metadata": {},
   "outputs": [],
   "source": [
    "spark.sql(\"\"\"\n",
    "CREATE TABLE IF NOT EXISTS iceberg.workshop.atable (\n",
    "    id string COMMENT 'random id',\n",
    "    name string COMMENT 'a name',\n",
    "    value int COMMENT 'integer with some numerical value',\n",
    "    timestamp timestamp COMMENT 'a timestamp column'\n",
    ")\n",
    "PARTITIONED BY (years(timestamp))\n",
    "TBLPROPERTIES (\n",
    "    'format-version'='2'\n",
    ")\n",
    "\"\"\")"
   ]
  },
  {
   "cell_type": "code",
   "execution_count": null,
   "id": "2948488b-68d4-42ee-a6a3-171be7b5e7de",
   "metadata": {},
   "outputs": [],
   "source": [
    "spark.sql(\"\"\"\n",
    "CREATE TABLE IF NOT EXISTS iceberg.workshop.atable (\n",
    "    id string COMMENT 'random id',\n",
    "    name string COMMENT 'a name',\n",
    "    value int COMMENT 'integer with some numerical value',\n",
    "    timestamp timestamp COMMENT 'a timestamp column'\n",
    ")\n",
    "PARTITIONED BY (years(timestamp))\n",
    "TBLPROPERTIES (\n",
    "    'format-version'='2'\n",
    ")\n",
    "\"\"\")"
   ]
  },
  {
   "cell_type": "code",
   "execution_count": null,
   "id": "0109e332-f9b0-481b-9a3a-2d7a71289e28",
   "metadata": {},
   "outputs": [],
   "source": [
    "# describe the created table\n",
    "\n",
    "spark.sql(\"\"\"\n",
    "DESCRIBE EXTENDED iceberg.workshop.atable\n",
    "\"\"\").toPandas()"
   ]
  },
  {
   "cell_type": "code",
   "execution_count": null,
   "id": "e20c9432-2436-4dd4-8a54-0d01fe1bf77c",
   "metadata": {},
   "outputs": [],
   "source": [
    "# insert some data\n",
    "\n",
    "import random\n",
    "import uuid\n",
    "\n",
    "from datetime import datetime\n",
    "from pyspark.sql import Row\n",
    "from pyspark.sql.functions import to_timestamp\n",
    "\n",
    "\n",
    "df = spark.createDataFrame([\n",
    "    Row(\n",
    "        id=str(uuid.uuid4()),\n",
    "        name=random.choice([\"Ariel\", \"Georgina\", \"Tom\", \"Ulma\"]),\n",
    "        value=random.randint(100, 999),\n",
    "        timestamp=datetime.fromisoformat(\"2024-12-01T07:32:18\")\n",
    "    ),\n",
    "    Row(\n",
    "        id=str(uuid.uuid4()),\n",
    "        name=random.choice([\"Ariel\", \"Georgina\", \"Tom\", \"Ulma\"]),\n",
    "        value=random.randint(100, 999),\n",
    "        timestamp=datetime.fromisoformat(\"2025-01-02T09:11:23\")\n",
    "    ),\n",
    "])\n",
    "\n",
    "df.writeTo(\"iceberg.workshop.atable\").append()"
   ]
  },
  {
   "cell_type": "code",
   "execution_count": null,
   "id": "09329913-fa9e-4274-880d-a5023c5b921d",
   "metadata": {},
   "outputs": [],
   "source": [
    "spark.sql(\"\"\"\n",
    "SELECT *\n",
    "FROM iceberg.workshop.atable\n",
    "ORDER BY name\n",
    "\"\"\").toPandas()"
   ]
  },
  {
   "cell_type": "code",
   "execution_count": null,
   "id": "411e9d74-14fc-43c5-8d81-8c71fb0e62a1",
   "metadata": {},
   "outputs": [],
   "source": [
    "spark.sql(\"\"\"\n",
    "SELECT *\n",
    "FROM iceberg.workshop.atable.history\n",
    "\"\"\").show(1000, False)"
   ]
  },
  {
   "cell_type": "code",
   "execution_count": null,
   "id": "8f2b81fe-7724-4754-a79f-40d38880c5fa",
   "metadata": {},
   "outputs": [],
   "source": [
    "spark.sql(\"\"\"\n",
    "--SELECT *\n",
    "SELECT content, file_path, record_count, partition\n",
    "FROM iceberg.workshop.atable.data_files\n",
    "\"\"\").toPandas()"
   ]
  },
  {
   "cell_type": "code",
   "execution_count": null,
   "id": "098e48c1-36b6-4987-85d4-0713493835a0",
   "metadata": {},
   "outputs": [],
   "source": [
    "#\n",
    "# PARTITIONING\n",
    "#"
   ]
  },
  {
   "cell_type": "code",
   "execution_count": null,
   "id": "fbc03eaa-d973-46f4-b9b7-96fe94d232f5",
   "metadata": {},
   "outputs": [],
   "source": [
    "# change partition layout\n",
    "\n",
    "spark.sql(\"\"\"\n",
    "ALTER TABLE iceberg.workshop.atable\n",
    "DROP PARTITION FIELD years(timestamp)\n",
    "\"\"\")"
   ]
  },
  {
   "cell_type": "code",
   "execution_count": null,
   "id": "cc9cb730-c316-417d-a543-936e6d063714",
   "metadata": {},
   "outputs": [],
   "source": [
    "spark.sql(\"\"\"\n",
    "ALTER TABLE iceberg.workshop.atable\n",
    "ADD PARTITION FIELD bucket(2, id)\n",
    "\"\"\")"
   ]
  },
  {
   "cell_type": "code",
   "execution_count": null,
   "id": "c4192a61-bebf-4dc5-8b02-e729e68b2d2a",
   "metadata": {},
   "outputs": [],
   "source": [
    "spark.sql(\"\"\"\n",
    "ALTER TABLE iceberg.workshop.atable\n",
    "ADD PARTITION FIELD truncate(5, name)\n",
    "\"\"\")"
   ]
  },
  {
   "cell_type": "code",
   "execution_count": null,
   "id": "31be10d4-1804-4c7d-a78e-f22eed4a79be",
   "metadata": {},
   "outputs": [],
   "source": [
    "spark.sql(\"\"\"\n",
    "DESCRIBE EXTENDED iceberg.workshop.atable\n",
    "\"\"\").toPandas()"
   ]
  },
  {
   "cell_type": "code",
   "execution_count": null,
   "id": "f7fb2b35-caf8-4448-a310-297508b30ac5",
   "metadata": {},
   "outputs": [],
   "source": [
    "# anything changed?\n",
    "\n",
    "spark.sql(\"\"\"\n",
    "--SELECT *\n",
    "SELECT content, file_path, record_count, partition\n",
    "FROM iceberg.workshop.atable.data_files\n",
    "\"\"\").toPandas()"
   ]
  },
  {
   "cell_type": "code",
   "execution_count": null,
   "id": "59470a01-c023-4fec-8457-cec6c7554a9d",
   "metadata": {},
   "outputs": [],
   "source": [
    "# write more data\n",
    "\n",
    "df = spark.createDataFrame([\n",
    "    Row(\n",
    "        id=str(uuid.uuid4()),\n",
    "        name=random.choice([\"Ariel\", \"Georgina\", \"Tom\", \"Ulma\"]),\n",
    "        value=random.randint(100, 999),\n",
    "        timestamp=datetime.fromisoformat(\"2024-12-01T07:32:18\")\n",
    "    ),\n",
    "    Row(\n",
    "        id=str(uuid.uuid4()),\n",
    "        name=random.choice([\"Ariel\", \"Georgina\", \"Tom\", \"Ulma\"]),\n",
    "        value=random.randint(100, 999),\n",
    "        timestamp=datetime.fromisoformat(\"2025-01-02T09:11:23\")\n",
    "    ),\n",
    "])\n",
    "\n",
    "df.writeTo(\"iceberg.workshop.atable\").append()"
   ]
  },
  {
   "cell_type": "code",
   "execution_count": null,
   "id": "bbd86a10-6bc8-4b3b-b784-1b4d6cfcb89f",
   "metadata": {},
   "outputs": [],
   "source": [
    "# what about now?\n",
    "\n",
    "spark.sql(\"\"\"\n",
    "--SELECT *\n",
    "SELECT content, file_path, record_count, partition\n",
    "FROM iceberg.workshop.atable.data_files\n",
    "\"\"\").toPandas()"
   ]
  },
  {
   "cell_type": "code",
   "execution_count": null,
   "id": "80f10e1c-0e1c-41b8-b3da-e7241346d893",
   "metadata": {},
   "outputs": [],
   "source": [
    "# partitions?\n",
    "\n",
    "spark.sql(\"\"\"\n",
    "SELECT *\n",
    "FROM iceberg.workshop.atable.partitions\n",
    "\"\"\").toPandas()"
   ]
  },
  {
   "cell_type": "code",
   "execution_count": null,
   "id": "03e9a797-16b8-45b3-bf94-093298a8b8a1",
   "metadata": {},
   "outputs": [],
   "source": [
    "#\n",
    "# SNAPSHOTS\n",
    "# "
   ]
  },
  {
   "cell_type": "code",
   "execution_count": null,
   "id": "f3f9f3b9-1ae4-4da6-9342-72901fc0db15",
   "metadata": {},
   "outputs": [],
   "source": [
    "# list snapshots\n",
    "\n",
    "spark.sql(\"\"\"\n",
    "-- SELECT *\n",
    "SELECT snapshot_id, committed_at\n",
    "FROM iceberg.workshop.atable.snapshots\n",
    "ORDER BY committed_at\n",
    "\"\"\").show(50, False)"
   ]
  },
  {
   "cell_type": "code",
   "execution_count": null,
   "id": "dbce52b0-c346-4d89-b242-b49cf374a520",
   "metadata": {},
   "outputs": [],
   "source": [
    "# query older snapshots\n",
    "\n",
    "spark.sql(\"\"\"\n",
    "SELECT *\n",
    "FROM iceberg.workshop.atable VERSION AS OF 3030987006270639493\n",
    "\"\"\").toPandas()"
   ]
  },
  {
   "cell_type": "code",
   "execution_count": null,
   "id": "1b0e6f14-a956-4ec8-9690-8af07c8cbb0c",
   "metadata": {},
   "outputs": [],
   "source": [
    "# query metadata of older snapshots\n",
    "\n",
    "spark.sql(\"\"\"\n",
    "SELECT *\n",
    "FROM iceberg.workshop.atable.data_files VERSION AS OF 3343137357946927937\n",
    "\"\"\").toPandas()"
   ]
  },
  {
   "cell_type": "code",
   "execution_count": null,
   "id": "d8799e64-7eea-420a-9d63-90c397fd85a3",
   "metadata": {},
   "outputs": [],
   "source": [
    "# create tags\n",
    "\n",
    "spark.sql(\"\"\"\n",
    "ALTER TABLE iceberg.workshop.atable\n",
    "CREATE TAG `TAG1`\n",
    "AS OF VERSION 3343137357946927937\n",
    "\"\"\").toPandas()"
   ]
  },
  {
   "cell_type": "code",
   "execution_count": null,
   "id": "990a2682-848e-4066-bc62-902f46bc51ad",
   "metadata": {},
   "outputs": [],
   "source": [
    "# list refs\n",
    "\n",
    "spark.sql(\"\"\"\n",
    "SELECT * FROM\n",
    "iceberg.workshop.atable.refs\n",
    "\"\"\").toPandas()"
   ]
  },
  {
   "cell_type": "code",
   "execution_count": null,
   "id": "a037892b-096d-4787-9dad-93bd6ba6cf1c",
   "metadata": {},
   "outputs": [],
   "source": [
    "# query a tag\n",
    "\n",
    "spark.sql(\"\"\"\n",
    "SELECT * FROM\n",
    "iceberg.workshop.atable.tag_TAG1\n",
    "\"\"\").toPandas()"
   ]
  },
  {
   "cell_type": "code",
   "execution_count": null,
   "id": "f90d08d5-4227-4310-89b5-b97387d3216f",
   "metadata": {},
   "outputs": [],
   "source": [
    "# retire some snapshots\n",
    "\n",
    "spark.sql(\"\"\"\n",
    "CALL iceberg.system.expire_snapshots(\n",
    "\ttable => 'iceberg.workshop.atable', snapshot_ids => ARRAY(984222577879189820)\n",
    ")\n",
    "\"\"\").toPandas()"
   ]
  },
  {
   "cell_type": "code",
   "execution_count": null,
   "id": "52242bd5-6579-4212-801f-d5c22f757415",
   "metadata": {},
   "outputs": [],
   "source": [
    "# query snapshots\n",
    "\n",
    "spark.sql(\"\"\"\n",
    "SELECT * FROM\n",
    "iceberg.workshop.atable.snapshots\n",
    "ORDER BY committed_at\n",
    "\"\"\").toPandas()"
   ]
  },
  {
   "cell_type": "code",
   "execution_count": null,
   "id": "ffaa405d-59ee-4c6b-b138-61f1981b198c",
   "metadata": {},
   "outputs": [],
   "source": [
    "#\n",
    "# LIBRARIES\n",
    "#"
   ]
  },
  {
   "cell_type": "code",
   "execution_count": null,
   "id": "fca0d964-49fa-4521-b144-100378fee708",
   "metadata": {},
   "outputs": [],
   "source": [
    "# perform a scan of the table with Polars\n",
    "\n",
    "import polars as pl\n",
    "\n",
    "table = catalog.load_table(\"workshop.atable\")\n",
    "\n",
    "storage_options = {\n",
    "    \"s3.endpoint\": \"http://minio:9000\",\n",
    "    \"s3.region\": \"eu-central-1\",\n",
    "    \"s3.access-key-id\": \"minioadmin\",\n",
    "    \"s3.secret-access-key\": \"minioadmin\",\n",
    "}\n",
    "\n",
    "pl_table = pl.scan_iceberg(table.metadata_location, storage_options=storage_options)"
   ]
  },
  {
   "cell_type": "code",
   "execution_count": null,
   "id": "1e1e3ca3-5236-49bc-ad1a-cf526f9002d4",
   "metadata": {},
   "outputs": [],
   "source": [
    "# query it with Polars\n",
    "\n",
    "pl.sql(\n",
    "    \"\"\"\n",
    "    SELECT * FROM pl_table\n",
    "    \"\"\"\n",
    ").collect()"
   ]
  },
  {
   "cell_type": "code",
   "execution_count": null,
   "id": "b01c7680-c2b0-438f-8b45-2c6379e0b3bf",
   "metadata": {},
   "outputs": [],
   "source": [
    "# Lazy Frame?\n",
    "\n",
    "pl.sql(\n",
    "    \"\"\"\n",
    "    SELECT * FROM pl_table\n",
    "    \"\"\"\n",
    ").explain()"
   ]
  },
  {
   "cell_type": "code",
   "execution_count": null,
   "id": "35e6e631-0a31-44e9-a878-1ed45f39bd7c",
   "metadata": {},
   "outputs": [],
   "source": [
    "# configure DuckDB to work with Iceberg and MinIO\n",
    "\n",
    "import duckdb\n",
    "\n",
    "\n",
    "duckdb.sql(\"\"\"\n",
    "INSTALL iceberg;\n",
    "LOAD iceberg;\n",
    "INSTALL httpfs;\n",
    "LOAD httpfs;\n",
    "\n",
    "SET s3_endpoint='minio:9000';\n",
    "SET s3_access_key_id='minioadmin';\n",
    "SET s3_secret_access_key='minioadmin';\n",
    "SET s3_region='eu-central-1';\n",
    "SET s3_use_ssl=false;\n",
    "SET s3_url_style='path';\n",
    "\"\"\")"
   ]
  },
  {
   "cell_type": "code",
   "execution_count": null,
   "id": "d954458a-0651-4cb6-8e16-27470d04d80d",
   "metadata": {},
   "outputs": [],
   "source": [
    "# query with DuckDB\n",
    "\n",
    "duckdb.sql(f\"SELECT * FROM iceberg_scan('{table.metadata_location}')\")"
   ]
  },
  {
   "cell_type": "code",
   "execution_count": null,
   "id": "abbfd29c-f2ec-4175-a90f-1eb7227fc1c3",
   "metadata": {},
   "outputs": [],
   "source": [
    "# PyIceberg exploration\n",
    "\n",
    "dir(table.inspect)"
   ]
  },
  {
   "cell_type": "code",
   "execution_count": null,
   "id": "24df0614-b0cd-4fd2-95c5-9725dc95ca79",
   "metadata": {},
   "outputs": [],
   "source": [
    "table.inspect.refs().to_pandas()"
   ]
  },
  {
   "cell_type": "code",
   "execution_count": null,
   "id": "b6029e7c-dd68-48f3-a0c9-70c6cd6aa345",
   "metadata": {},
   "outputs": [],
   "source": [
    "#\n",
    "# DATA FILES\n",
    "#"
   ]
  },
  {
   "cell_type": "code",
   "execution_count": null,
   "id": "19824f1f-0a5c-43a4-b92f-2ffacf20606e",
   "metadata": {},
   "outputs": [],
   "source": [
    "spark.sql(\"\"\"\n",
    "SELECT * FROM\n",
    "iceberg.workshop.atable.data_files\n",
    "\"\"\").toPandas()"
   ]
  },
  {
   "cell_type": "code",
   "execution_count": null,
   "id": "f8d73037-a4a5-45d5-93cd-87ba5b3a5fae",
   "metadata": {},
   "outputs": [],
   "source": [
    "# Delete some data\n",
    "\n",
    "spark.sql(\"\"\"\n",
    "DELETE FROM\n",
    "iceberg.workshop.atable\n",
    "WHERE name = 'Ariel'\n",
    "\"\"\").toPandas()"
   ]
  },
  {
   "cell_type": "code",
   "execution_count": null,
   "id": "9006845d-29d7-476c-9f6e-4c91f4695840",
   "metadata": {},
   "outputs": [],
   "source": [
    "# are files gone?\n",
    "\n",
    "spark.sql(\"\"\"\n",
    "SELECT * FROM\n",
    "iceberg.workshop.atable.data_files\n",
    "\"\"\").toPandas()"
   ]
  },
  {
   "cell_type": "code",
   "execution_count": null,
   "id": "4beeff95-ead4-42ac-8452-b6a940a66400",
   "metadata": {},
   "outputs": [],
   "source": [
    "# yes, but also no\n",
    "\n",
    "spark.sql(\"\"\"\n",
    "SELECT * FROM\n",
    "iceberg.workshop.atable.all_data_files\n",
    "\"\"\").toPandas()"
   ]
  },
  {
   "cell_type": "code",
   "execution_count": null,
   "id": "b42d88b6-3214-4c8e-a8cd-7321d3ac8503",
   "metadata": {},
   "outputs": [],
   "source": [
    "#\n",
    "# METADATA\n",
    "#"
   ]
  },
  {
   "cell_type": "code",
   "execution_count": null,
   "id": "d3da673f-074f-4fcf-af18-baf68cfb9487",
   "metadata": {},
   "outputs": [],
   "source": [
    "# PyIceberg exploration\n",
    "\n",
    "dir(table.inspect)"
   ]
  },
  {
   "cell_type": "code",
   "execution_count": null,
   "id": "c2ff7788-ce76-4cf4-9400-b2aa7c85c01a",
   "metadata": {},
   "outputs": [],
   "source": []
  }
 ],
 "metadata": {
  "kernelspec": {
   "display_name": "Python 3 (ipykernel)",
   "language": "python",
   "name": "python3"
  },
  "language_info": {
   "codemirror_mode": {
    "name": "ipython",
    "version": 3
   },
   "file_extension": ".py",
   "mimetype": "text/x-python",
   "name": "python",
   "nbconvert_exporter": "python",
   "pygments_lexer": "ipython3",
   "version": "3.13.5"
  }
 },
 "nbformat": 4,
 "nbformat_minor": 5
}
