{
 "cells": [
  {
   "cell_type": "code",
   "execution_count": null,
   "id": "2af9a0da-b545-4a20-a0ab-1d1b9c45b16d",
   "metadata": {},
   "outputs": [],
   "source": [
    "#\n",
    "# PREPARATIONS\n",
    "#"
   ]
  },
  {
   "cell_type": "code",
   "execution_count": 1,
   "id": "c16b102c-c2d3-4fef-a284-a1ac29ece5b4",
   "metadata": {},
   "outputs": [
    {
     "name": "stdout",
     "output_type": "stream",
     "text": [
      "An error occurred (BucketAlreadyOwnedByYou) when calling the CreateBucket operation: Your previous request to create the named bucket succeeded and you already own it.\n"
     ]
    }
   ],
   "source": [
    "# create the 'warehouse' S3 bucket\n",
    "\n",
    "import boto3\n",
    "\n",
    "\n",
    "s3_resource = boto3.resource('s3', \n",
    "    endpoint_url='http://minio:9000',\n",
    "    aws_access_key_id='minioadmin',\n",
    "    aws_secret_access_key='minioadmin',\n",
    "    aws_session_token=None,\n",
    "    config=boto3.session.Config(signature_version='s3v4'),\n",
    "    verify=False,\n",
    ")\n",
    "\n",
    "# if it fails with BucketAlreadyOwnedByYou, it means the bucket is already there\n",
    "try:\n",
    "    s3_resource.Bucket(\"warehouse\").create()\n",
    "except Exception as e:\n",
    "    print(e)"
   ]
  },
  {
   "cell_type": "code",
   "execution_count": 2,
   "id": "3a4d7843-e361-4bf7-82b0-602f1fd927b5",
   "metadata": {},
   "outputs": [
    {
     "data": {
      "text/plain": [
       "{'error': {'message': 'Catalog already bootstrapped',\n",
       "  'type': 'CatalogAlreadyBootstrapped',\n",
       "  'code': 400,\n",
       "  'stack': ['01977be4-ffdc-74f1-a2b3-0cce24c6f998']}}"
      ]
     },
     "execution_count": 2,
     "metadata": {},
     "output_type": "execute_result"
    }
   ],
   "source": [
    "# bootstrap the catalog\n",
    "\n",
    "import requests\n",
    "\n",
    "\n",
    "r = requests.post(\"http://lakekeeper:8181/management/v1/bootstrap\", json={\"accept-terms-of-use\": True})\n",
    "r.json()"
   ]
  },
  {
   "cell_type": "code",
   "execution_count": 3,
   "id": "1fe201fc-36f1-46da-a52f-be697aed37fc",
   "metadata": {},
   "outputs": [
    {
     "data": {
      "text/plain": [
       "{'error': {'message': 'Storage profile overlaps with existing warehouse iceberg',\n",
       "  'type': 'CreateWarehouseStorageProfileOverlap',\n",
       "  'code': 400,\n",
       "  'stack': ['01977be5-a93d-7ad1-b001-4b6fd84e9b0d']}}"
      ]
     },
     "execution_count": 3,
     "metadata": {},
     "output_type": "execute_result"
    }
   ],
   "source": [
    "# initialise the 'iceberg' warehouse in Lakekeeper\n",
    "\n",
    "import requests\n",
    "\n",
    "\n",
    "payload = {\n",
    "  \"warehouse-name\": \"iceberg\",\n",
    "  \"project-id\": \"00000000-0000-0000-0000-000000000000\",\n",
    "  \"storage-profile\": {\n",
    "    \"type\": \"s3\",\n",
    "    \"bucket\": \"warehouse\",\n",
    "    \"key-prefix\": \"iceberg\",\n",
    "    \"assume-role-arn\": None,\n",
    "    \"endpoint\": \"http://minio:9000\",\n",
    "    \"region\": \"eu-central-1\",\n",
    "    \"path-style-access\": True,\n",
    "    \"flavor\": \"minio\",\n",
    "    \"sts-enabled\": True,\n",
    "  },\n",
    "  \"storage-credential\": {\n",
    "    \"type\": \"s3\",\n",
    "    \"credential-type\": \"access-key\",\n",
    "    \"aws-access-key-id\": \"minioadmin\",\n",
    "    \"aws-secret-access-key\": \"minioadmin\"\n",
    "  }\n",
    "}\n",
    "\n",
    "r = requests.post(\"http://lakekeeper:8181/management/v1/warehouse\", json=payload)\n",
    "r.json()"
   ]
  },
  {
   "cell_type": "code",
   "execution_count": 4,
   "id": "6add62fa-7bc0-4470-b306-d9ee35d2a490",
   "metadata": {},
   "outputs": [
    {
     "data": {
      "text/plain": [
       "{'overrides': {'uri': 'http://lakekeeper:8181/catalog'},\n",
       " 'defaults': {'rest-page-size': '100',\n",
       "  'prefix': 'edb09648-4a32-11f0-a0ca-d33695f1b551'},\n",
       " 'endpoints': ['GET /v1/config',\n",
       "  'GET /v1/{prefix}/namespaces',\n",
       "  'HEAD /v1/{prefix}/namespaces/{namespace}',\n",
       "  'POST /v1/{prefix}/namespaces',\n",
       "  'GET /v1/{prefix}/namespaces/{namespace}',\n",
       "  'DELETE /v1/{prefix}/namespaces/{namespace}',\n",
       "  'POST /v1/{prefix}/namespaces/{namespace}/properties',\n",
       "  'GET /v1/{prefix}/namespaces/{namespace}/tables',\n",
       "  'POST /v1/{prefix}/namespaces/{namespace}/tables',\n",
       "  'GET /v1/{prefix}/namespaces/{namespace}/tables/{table}',\n",
       "  'POST /v1/{prefix}/namespaces/{namespace}/tables/{table}',\n",
       "  'DELETE /v1/{prefix}/namespaces/{namespace}/tables/{table}',\n",
       "  'HEAD /v1/{prefix}/namespaces/{namespace}/tables/{table}',\n",
       "  'GET /v1/{prefix}/namespaces/{namespace}/tables/{table}/credentials',\n",
       "  'POST /v1/{prefix}/tables/rename',\n",
       "  'POST /v1/{prefix}/namespaces/{namespace}/register',\n",
       "  'POST /v1/{prefix}/namespaces/{namespace}/tables/{table}/metrics',\n",
       "  'POST /v1/{prefix}/transactions/commit',\n",
       "  'POST /v1/{prefix}/namespaces/{namespace}/views',\n",
       "  'GET /v1/{prefix}/namespaces/{namespace}/views',\n",
       "  'GET /v1/{prefix}/namespaces/{namespace}/views/{view}',\n",
       "  'POST /v1/{prefix}/namespaces/{namespace}/views/{view}',\n",
       "  'DELETE /v1/{prefix}/namespaces/{namespace}/views/{view}',\n",
       "  'HEAD /v1/{prefix}/namespaces/{namespace}/views/{view}',\n",
       "  'POST /v1/{prefix}/views/rename']}"
      ]
     },
     "execution_count": 4,
     "metadata": {},
     "output_type": "execute_result"
    }
   ],
   "source": [
    "# check the config of the created warehouse\n",
    "\n",
    "import requests\n",
    "\n",
    "\n",
    "r = requests.get(\"http://lakekeeper:8181/catalog/v1/config?warehouse=iceberg\")\n",
    "r.json()"
   ]
  },
  {
   "cell_type": "code",
   "execution_count": 5,
   "id": "fd7d3dcb-63ff-42ed-9884-61bf7bff07db",
   "metadata": {},
   "outputs": [
    {
     "name": "stderr",
     "output_type": "stream",
     "text": [
      "Setting default log level to \"WARN\".\n",
      "To adjust logging level use sc.setLogLevel(newLevel). For SparkR, use setLogLevel(newLevel).\n"
     ]
    },
    {
     "name": "stdout",
     "output_type": "stream",
     "text": [
      "+---------+\n",
      "|namespace|\n",
      "+---------+\n",
      "|  default|\n",
      "+---------+\n",
      "\n"
     ]
    }
   ],
   "source": [
    "# check that Spark client works\n",
    "\n",
    "from pyspark.sql import SparkSession\n",
    "\n",
    "\n",
    "spark = (\n",
    "    SparkSession.builder\n",
    "        .config(\n",
    "            \"spark.sql.extensions\",\n",
    "            \"org.projectnessie.spark.extensions.NessieSparkSessionExtensions, org.apache.iceberg.spark.extensions.IcebergSparkSessionExtensions\"\n",
    "        )\n",
    "        .config(\"spark.sql.catalog.iceberg\", \"org.apache.iceberg.spark.SparkCatalog\")\n",
    "        .config(\"spark.sql.catalog.iceberg.io-impl\", \"org.apache.iceberg.aws.s3.S3FileIO\")\n",
    "        .config(\"spark.sql.catalog.iceberg.type\", \"rest\")\n",
    "        .config(\"spark.sql.catalog.iceberg.uri\", \"http://lakekeeper:8181/catalog/\")\n",
    "        .config(\"spark.sql.catalog.iceberg.warehouse\", \"iceberg\")\n",
    "        .config(\"spark.sql.catalog.iceberg.ref\", \"main\")\n",
    "        .config(\"spark.sql.catalog.iceberg.cache-enabled\", False)\n",
    "        .getOrCreate()\n",
    ")\n",
    "spark.sparkContext.setLogLevel('ERROR')\n",
    "\n",
    "spark.sql(\"\"\"\n",
    "    SHOW SCHEMAS\n",
    "\"\"\").show()"
   ]
  },
  {
   "cell_type": "code",
   "execution_count": 7,
   "id": "935bac74-be6d-4f4d-b6ff-c2756c4c2402",
   "metadata": {},
   "outputs": [
    {
     "name": "stdout",
     "output_type": "stream",
     "text": [
      "catalog:\n",
      "  rest:\n",
      "    uri: http://lakekeeper:8181/catalog\n",
      "    warehouse: iceberg\n",
      "    s3.endpoint: http://minio:9000\n",
      "    s3.region: eu-central-1\n",
      "    s3.access-key-id: minioadmin\n",
      "    s3.secret-access-key: minioadmin\n"
     ]
    }
   ],
   "source": [
    "# check existence of pyiceberg config\n",
    "\n",
    "!cat .pyiceberg.yaml"
   ]
  },
  {
   "cell_type": "code",
   "execution_count": 13,
   "id": "dc5da03d-de57-479b-a6ca-d935fd36c0ca",
   "metadata": {},
   "outputs": [],
   "source": [
    "# check if pyiceberg works\n",
    "\n",
    "from pyiceberg.catalog import load_catalog\n",
    "\n",
    "\n",
    "catalog = load_catalog(\"rest\")\n",
    "catalog.create_namespace(\"workshop\")\n",
    "catalog.list_namespaces()"
   ]
  },
  {
   "cell_type": "code",
   "execution_count": null,
   "id": "4161aa84-bb8f-43c6-9bed-ecd5bdd7aa3f",
   "metadata": {},
   "outputs": [],
   "source": [
    "#\n",
    "# TABLE DEFINITION\n",
    "#"
   ]
  }
 ],
 "metadata": {
  "kernelspec": {
   "display_name": "Python 3 (ipykernel)",
   "language": "python",
   "name": "python3"
  },
  "language_info": {
   "codemirror_mode": {
    "name": "ipython",
    "version": 3
   },
   "file_extension": ".py",
   "mimetype": "text/x-python",
   "name": "python",
   "nbconvert_exporter": "python",
   "pygments_lexer": "ipython3",
   "version": "3.13.5"
  }
 },
 "nbformat": 4,
 "nbformat_minor": 5
}
