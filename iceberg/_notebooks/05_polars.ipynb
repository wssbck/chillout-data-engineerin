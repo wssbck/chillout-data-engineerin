{
 "cells": [
  {
   "cell_type": "code",
   "execution_count": 4,
   "id": "7314fc35-903d-4bc1-884d-f929be4063d5",
   "metadata": {},
   "outputs": [],
   "source": [
    "# import polars\n",
    "\n",
    "import polars as pl"
   ]
  },
  {
   "cell_type": "code",
   "execution_count": 19,
   "id": "09775e45-2115-4c81-bd40-eb0fb743c077",
   "metadata": {},
   "outputs": [],
   "source": [
    "# use pyiceberg to get the location of the table\n",
    "\n",
    "from pyiceberg.catalog.rest import RestCatalog\n",
    "\n",
    "\n",
    "catalog = RestCatalog(name=\"iceberg\", uri=\"http://nessie:19120/iceberg/main/\")\n",
    "table = catalog.load_table(\"default.bank_transfers\")\n",
    "meta = table.metadata"
   ]
  },
  {
   "cell_type": "code",
   "execution_count": 20,
   "id": "22ec075a-f57a-433e-886f-36e5ac39cb15",
   "metadata": {},
   "outputs": [],
   "source": [
    "# perform a scan of the table\n",
    "\n",
    "table_path = table.location()\n",
    "storage_options = {\n",
    "    \"s3.endpoint\": \"http://minio:9000\",\n",
    "    \"s3.region\": \"eu-central-1\",\n",
    "    \"s3.access-key-id\": \"minioadmin\",\n",
    "    \"s3.secret-access-key\": \"minioadmin\",\n",
    "}\n",
    "\n",
    "bank_transfers = pl.scan_iceberg(table.metadata_location, storage_options=storage_options)"
   ]
  },
  {
   "cell_type": "code",
   "execution_count": 21,
   "id": "22cebb28-691b-4764-888d-ff8f0a9bb627",
   "metadata": {},
   "outputs": [
    {
     "data": {
      "text/html": [
       "<div><style>\n",
       ".dataframe > thead > tr,\n",
       ".dataframe > tbody > tr {\n",
       "  text-align: right;\n",
       "  white-space: pre-wrap;\n",
       "}\n",
       "</style>\n",
       "<small>shape: (3, 5)</small><table border=\"1\" class=\"dataframe\"><thead><tr><th>id</th><th>amount</th><th>transferred_from</th><th>transferred_to</th><th>timestamp</th></tr><tr><td>i64</td><td>i32</td><td>str</td><td>str</td><td>datetime[μs, UTC]</td></tr></thead><tbody><tr><td>1</td><td>12000</td><td>&quot;ACME INC&quot;</td><td>&quot;ASTROCORP&quot;</td><td>2022-11-14 00:55:00 UTC</td></tr><tr><td>2</td><td>24000</td><td>&quot;John Doe&quot;</td><td>&quot;Jane Doe&quot;</td><td>2022-11-15 02:11:00 UTC</td></tr><tr><td>3</td><td>500</td><td>&quot;Deborah S.&quot;</td><td>&quot;Michael C.&quot;</td><td>2022-11-17 16:25:07 UTC</td></tr></tbody></table></div>"
      ],
      "text/plain": [
       "shape: (3, 5)\n",
       "┌─────┬────────┬──────────────────┬────────────────┬─────────────────────────┐\n",
       "│ id  ┆ amount ┆ transferred_from ┆ transferred_to ┆ timestamp               │\n",
       "│ --- ┆ ---    ┆ ---              ┆ ---            ┆ ---                     │\n",
       "│ i64 ┆ i32    ┆ str              ┆ str            ┆ datetime[μs, UTC]       │\n",
       "╞═════╪════════╪══════════════════╪════════════════╪═════════════════════════╡\n",
       "│ 1   ┆ 12000  ┆ ACME INC         ┆ ASTROCORP      ┆ 2022-11-14 00:55:00 UTC │\n",
       "│ 2   ┆ 24000  ┆ John Doe         ┆ Jane Doe       ┆ 2022-11-15 02:11:00 UTC │\n",
       "│ 3   ┆ 500    ┆ Deborah S.       ┆ Michael C.     ┆ 2022-11-17 16:25:07 UTC │\n",
       "└─────┴────────┴──────────────────┴────────────────┴─────────────────────────┘"
      ]
     },
     "execution_count": 21,
     "metadata": {},
     "output_type": "execute_result"
    }
   ],
   "source": [
    "# use SQL to query the table through the variable created before\n",
    "\n",
    "pl.sql(\n",
    "    \"\"\"\n",
    "    SELECT * FROM bank_transfers\n",
    "    \"\"\"\n",
    ").collect()"
   ]
  },
  {
   "cell_type": "code",
   "execution_count": 22,
   "id": "dee29655-b741-419a-bd95-1075f0088820",
   "metadata": {},
   "outputs": [
    {
     "data": {
      "text/html": [
       "<div><style>\n",
       ".dataframe > thead > tr,\n",
       ".dataframe > tbody > tr {\n",
       "  text-align: right;\n",
       "  white-space: pre-wrap;\n",
       "}\n",
       "</style>\n",
       "<small>shape: (3, 5)</small><table border=\"1\" class=\"dataframe\"><thead><tr><th>id</th><th>amount</th><th>transferred_from</th><th>transferred_to</th><th>timestamp</th></tr><tr><td>i64</td><td>i32</td><td>str</td><td>str</td><td>datetime[μs, UTC]</td></tr></thead><tbody><tr><td>1</td><td>12000</td><td>&quot;ACME INC&quot;</td><td>&quot;ASTROCORP&quot;</td><td>2022-11-14 00:55:00 UTC</td></tr><tr><td>2</td><td>24000</td><td>&quot;John Doe&quot;</td><td>&quot;Jane Doe&quot;</td><td>2022-11-15 02:11:00 UTC</td></tr><tr><td>3</td><td>500</td><td>&quot;Deborah S.&quot;</td><td>&quot;Michael C.&quot;</td><td>2022-11-17 16:25:07 UTC</td></tr></tbody></table></div>"
      ],
      "text/plain": [
       "shape: (3, 5)\n",
       "┌─────┬────────┬──────────────────┬────────────────┬─────────────────────────┐\n",
       "│ id  ┆ amount ┆ transferred_from ┆ transferred_to ┆ timestamp               │\n",
       "│ --- ┆ ---    ┆ ---              ┆ ---            ┆ ---                     │\n",
       "│ i64 ┆ i32    ┆ str              ┆ str            ┆ datetime[μs, UTC]       │\n",
       "╞═════╪════════╪══════════════════╪════════════════╪═════════════════════════╡\n",
       "│ 1   ┆ 12000  ┆ ACME INC         ┆ ASTROCORP      ┆ 2022-11-14 00:55:00 UTC │\n",
       "│ 2   ┆ 24000  ┆ John Doe         ┆ Jane Doe       ┆ 2022-11-15 02:11:00 UTC │\n",
       "│ 3   ┆ 500    ┆ Deborah S.       ┆ Michael C.     ┆ 2022-11-17 16:25:07 UTC │\n",
       "└─────┴────────┴──────────────────┴────────────────┴─────────────────────────┘"
      ]
     },
     "execution_count": 22,
     "metadata": {},
     "output_type": "execute_result"
    }
   ],
   "source": [
    "# use SQL for self-referential query\n",
    "\n",
    "bank_transfers.sql(\n",
    "    \"\"\"\n",
    "    SELECT * FROM self\n",
    "    \"\"\"\n",
    ").collect()"
   ]
  },
  {
   "cell_type": "code",
   "execution_count": 23,
   "id": "ef91a89e-1758-4c93-a192-7b0d2faa27cb",
   "metadata": {},
   "outputs": [
    {
     "data": {
      "text/html": [
       "<div><style>\n",
       ".dataframe > thead > tr,\n",
       ".dataframe > tbody > tr {\n",
       "  text-align: right;\n",
       "  white-space: pre-wrap;\n",
       "}\n",
       "</style>\n",
       "<small>shape: (0, 5)</small><table border=\"1\" class=\"dataframe\"><thead><tr><th>id</th><th>amount</th><th>transferred_from</th><th>transferred_to</th><th>timestamp</th></tr><tr><td>i64</td><td>i32</td><td>str</td><td>str</td><td>datetime[μs, UTC]</td></tr></thead><tbody></tbody></table></div>"
      ],
      "text/plain": [
       "shape: (0, 5)\n",
       "┌─────┬────────┬──────────────────┬────────────────┬───────────────────┐\n",
       "│ id  ┆ amount ┆ transferred_from ┆ transferred_to ┆ timestamp         │\n",
       "│ --- ┆ ---    ┆ ---              ┆ ---            ┆ ---               │\n",
       "│ i64 ┆ i32    ┆ str              ┆ str            ┆ datetime[μs, UTC] │\n",
       "╞═════╪════════╪══════════════════╪════════════════╪═══════════════════╡\n",
       "└─────┴────────┴──────────────────┴────────────────┴───────────────────┘"
      ]
     },
     "execution_count": 23,
     "metadata": {},
     "output_type": "execute_result"
    }
   ],
   "source": [
    "# A filtering query using the DataFrame API\n",
    "\n",
    "bank_transfers.filter(\n",
    "    pl.col('transferred_from') == \"Charles B.\"\n",
    ").collect()"
   ]
  },
  {
   "cell_type": "code",
   "execution_count": 24,
   "id": "99b43594-5ffb-4c14-a809-5536fb76e125",
   "metadata": {},
   "outputs": [
    {
     "data": {
      "text/html": [
       "<div><style>\n",
       ".dataframe > thead > tr,\n",
       ".dataframe > tbody > tr {\n",
       "  text-align: right;\n",
       "  white-space: pre-wrap;\n",
       "}\n",
       "</style>\n",
       "<small>shape: (3, 3)</small><table border=\"1\" class=\"dataframe\"><thead><tr><th>transferred_to</th><th>count</th><th>total_transfers</th></tr><tr><td>str</td><td>u32</td><td>i32</td></tr></thead><tbody><tr><td>&quot;ASTROCORP&quot;</td><td>1</td><td>12000</td></tr><tr><td>&quot;Michael C.&quot;</td><td>1</td><td>500</td></tr><tr><td>&quot;Jane Doe&quot;</td><td>1</td><td>24000</td></tr></tbody></table></div>"
      ],
      "text/plain": [
       "shape: (3, 3)\n",
       "┌────────────────┬───────┬─────────────────┐\n",
       "│ transferred_to ┆ count ┆ total_transfers │\n",
       "│ ---            ┆ ---   ┆ ---             │\n",
       "│ str            ┆ u32   ┆ i32             │\n",
       "╞════════════════╪═══════╪═════════════════╡\n",
       "│ ASTROCORP      ┆ 1     ┆ 12000           │\n",
       "│ Michael C.     ┆ 1     ┆ 500             │\n",
       "│ Jane Doe       ┆ 1     ┆ 24000           │\n",
       "└────────────────┴───────┴─────────────────┘"
      ]
     },
     "execution_count": 24,
     "metadata": {},
     "output_type": "execute_result"
    }
   ],
   "source": [
    "# A basic analytical query\n",
    "\n",
    "pl.sql(\n",
    "    \"\"\"\n",
    "    SELECT\n",
    "        transferred_to,\n",
    "        COUNT(*) AS count,\n",
    "        SUM(amount) AS total_transfers\n",
    "    FROM bank_transfers\n",
    "    GROUP BY transferred_to\n",
    "    \"\"\"\n",
    ").collect()"
   ]
  },
  {
   "cell_type": "code",
   "execution_count": 25,
   "id": "34eaff03-d27b-48a6-b345-6c824d529760",
   "metadata": {},
   "outputs": [
    {
     "data": {
      "text/plain": [
       "polars.lazyframe.frame.LazyFrame"
      ]
     },
     "execution_count": 25,
     "metadata": {},
     "output_type": "execute_result"
    }
   ],
   "source": [
    "# Is it really evaluated lazily?\n",
    "\n",
    "df = pl.sql(\n",
    "    \"\"\"\n",
    "    SELECT\n",
    "        transferred_to,\n",
    "        COUNT(*) AS count,\n",
    "        SUM(amount) AS total_transfers\n",
    "    FROM bank_transfers\n",
    "    GROUP BY transferred_to\n",
    "    \"\"\"\n",
    ")\n",
    "type(df)"
   ]
  },
  {
   "cell_type": "code",
   "execution_count": null,
   "id": "529c7123-ac88-4335-974b-14394112c91f",
   "metadata": {},
   "outputs": [],
   "source": [
    "# What does it contain, then?\n",
    "\n",
    "df.explain()"
   ]
  },
  {
   "cell_type": "code",
   "execution_count": null,
   "id": "7981b21a-0787-4c40-bad2-464ad66d876b",
   "metadata": {},
   "outputs": [],
   "source": [
    "# Let's see the results again!\n",
    "\n",
    "df.collect()"
   ]
  },
  {
   "cell_type": "code",
   "execution_count": null,
   "id": "ffbdbb6e-8ceb-4f95-acf0-5008ac51612e",
   "metadata": {},
   "outputs": [],
   "source": [
    "# What about time travel?\n",
    "\n",
    "table_log = table.metadata.metadata_log\n",
    "table_log"
   ]
  },
  {
   "cell_type": "code",
   "execution_count": null,
   "id": "104d980e-107a-460a-b930-5a566fc792b1",
   "metadata": {},
   "outputs": [],
   "source": [
    "pl.scan_iceberg(\n",
    "    table_log[4].metadata_file\n",
    ").collect()"
   ]
  }
 ],
 "metadata": {
  "kernelspec": {
   "display_name": "Python 3 (ipykernel)",
   "language": "python",
   "name": "python3"
  },
  "language_info": {
   "codemirror_mode": {
    "name": "ipython",
    "version": 3
   },
   "file_extension": ".py",
   "mimetype": "text/x-python",
   "name": "python",
   "nbconvert_exporter": "python",
   "pygments_lexer": "ipython3",
   "version": "3.12.9"
  }
 },
 "nbformat": 4,
 "nbformat_minor": 5
}
