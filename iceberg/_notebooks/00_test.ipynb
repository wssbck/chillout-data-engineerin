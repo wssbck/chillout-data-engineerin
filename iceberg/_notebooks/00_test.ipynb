{
 "cells": [
  {
   "cell_type": "code",
   "execution_count": 1,
   "id": "32c5f8bc",
   "metadata": {
    "scrolled": true
   },
   "outputs": [
    {
     "name": "stdout",
     "output_type": "stream",
     "text": [
      "Version 1.12.0\n",
      " of Apache Avro\n",
      "Copyright 2010-2015 The Apache Software Foundation\n",
      "\n",
      "This product includes software developed at\n",
      "The Apache Software Foundation (https://www.apache.org/).\n",
      "----------------\n",
      "Available tools:\n",
      "    canonical  Converts an Avro Schema to its canonical form\n",
      "          cat  Extracts samples from files\n",
      "      compile  Generates Java code for the given schema.\n",
      "       concat  Concatenates avro files without re-compressing.\n",
      "        count  Counts the records in avro files or folders\n",
      "  fingerprint  Returns the fingerprint for the schemas.\n",
      "   fragtojson  Renders a binary-encoded Avro datum as JSON.\n",
      "     fromjson  Reads JSON records and writes an Avro data file.\n",
      "     fromtext  Imports a text file into an avro data file.\n",
      "      getmeta  Prints out the metadata of an Avro data file.\n",
      "    getschema  Prints out schema of an Avro data file.\n",
      "          idl  Generates a JSON schema or protocol from an Avro IDL file\n",
      " idl2schemata  Extract JSON schemata of the types from an Avro IDL file\n",
      "       induce  Induce schema/protocol from Java class/interface via reflection.\n",
      "   jsontofrag  Renders a JSON-encoded Avro datum as binary.\n",
      "       random  Creates a file with randomly generated instances of a schema.\n",
      "      recodec  Alters the codec of a data file.\n",
      "       repair  Recovers data from a corrupt Avro Data file\n",
      "  rpcprotocol  Output the protocol of a RPC service\n",
      "   rpcreceive  Opens an RPC Server and listens for one message.\n",
      "      rpcsend  Sends a single RPC message.\n",
      "       tether  Run a tethered mapreduce job.\n",
      "       tojson  Dumps an Avro data file as JSON, record per line or pretty.\n",
      "       totext  Converts an Avro data file to a text file.\n",
      "     totrevni  Converts an Avro data file to a Trevni file.\n",
      "  trevni_meta  Dumps a Trevni file's metadata as JSON.\n",
      "trevni_random  Create a Trevni file filled with random instances of a schema.\n",
      "trevni_tojson  Dumps a Trevni file as JSON.\n"
     ]
    }
   ],
   "source": [
    "# first of all, let's check that avro tools work\n",
    "\n",
    "!java -jar /usr/bin/avro.jar"
   ]
  },
  {
   "cell_type": "code",
   "execution_count": 1,
   "id": "279eb712",
   "metadata": {},
   "outputs": [
    {
     "name": "stderr",
     "output_type": "stream",
     "text": [
      "Setting default log level to \"WARN\".\n",
      "To adjust logging level use sc.setLogLevel(newLevel). For SparkR, use setLogLevel(newLevel).\n"
     ]
    },
    {
     "name": "stdout",
     "output_type": "stream",
     "text": [
      "+---------+--------------+-----------+\n",
      "|namespace|     tableName|isTemporary|\n",
      "+---------+--------------+-----------+\n",
      "|  default|bank_transfers|      false|\n",
      "+---------+--------------+-----------+\n",
      "\n"
     ]
    }
   ],
   "source": [
    "# check that Spark client works\n",
    "\n",
    "from pyspark.sql import SparkSession\n",
    "\n",
    "spark = (\n",
    "    SparkSession.builder\n",
    "        .config(\n",
    "            \"spark.sql.extensions\",\n",
    "            \"org.projectnessie.spark.extensions.NessieSparkSessionExtensions, org.apache.iceberg.spark.extensions.IcebergSparkSessionExtensions\"\n",
    "        )\n",
    "        .config(\"spark.sql.catalog.iceberg\", \"org.apache.iceberg.spark.SparkCatalog\")\n",
    "        .config(\"spark.sql.catalog.iceberg.io-impl\", \"org.apache.iceberg.aws.s3.S3FileIO\")\n",
    "        .config(\"spark.sql.catalog.iceberg.type\", \"rest\")\n",
    "        .config(\"spark.sql.catalog.iceberg.uri\", \"http://nessie:19120/iceberg/main/\")\n",
    "        .config(\"spark.sql.catalog.iceberg.ref\", \"main\")\n",
    "        .config(\"spark.sql.catalog.iceberg.cache-enabled\", False)\n",
    "        .getOrCreate()\n",
    ")\n",
    "spark.sparkContext.setLogLevel('ERROR')\n",
    "\n",
    "spark.sql(\"\"\"\n",
    "    SHOW TABLES FROM iceberg.default\n",
    "\"\"\").show()"
   ]
  },
  {
   "cell_type": "code",
   "execution_count": null,
   "id": "6e8e63c3",
   "metadata": {},
   "outputs": [],
   "source": [
    "# check that Trino client works\n",
    "\n",
    "from trino.dbapi import connect\n",
    "\n",
    "trino_connection = connect(\n",
    "    host=\"trino\",\n",
    "    port=8080,\n",
    "    user=\"trino\",\n",
    ")\n",
    "trino = trino_connection.cursor()\n",
    "trino.execute(\"SELECT * FROM system.runtime.nodes\")\n",
    "\n",
    "rows = trino.fetchall()\n",
    "print(rows)"
   ]
  },
  {
   "cell_type": "code",
   "execution_count": null,
   "id": "360f35a4",
   "metadata": {},
   "outputs": [],
   "source": [
    "# check that Python client works\n",
    "\n",
    "from pyiceberg.catalog.hive import HiveCatalog\n",
    "from pyiceberg.exceptions import NoSuchTableError\n",
    "\n",
    "catalog = HiveCatalog(name=\"iceberg\", uri=\"thrift://hivemetastore:9083\")\n",
    "\n",
    "try:\n",
    "    catalog.load_table(\"default.sample\")\n",
    "except NoSuchTableError as e:\n",
    "    print(e)"
   ]
  }
 ],
 "metadata": {
  "kernelspec": {
   "display_name": "Python 3 (ipykernel)",
   "language": "python",
   "name": "python3"
  },
  "language_info": {
   "codemirror_mode": {
    "name": "ipython",
    "version": 3
   },
   "file_extension": ".py",
   "mimetype": "text/x-python",
   "name": "python",
   "nbconvert_exporter": "python",
   "pygments_lexer": "ipython3",
   "version": "3.12.9"
  }
 },
 "nbformat": 4,
 "nbformat_minor": 5
}
