{
 "cells": [
  {
   "cell_type": "code",
   "execution_count": 1,
   "id": "a4ac841d",
   "metadata": {},
   "outputs": [],
   "source": [
    "# load the table using pure Python client\n",
    "\n",
    "from pyiceberg.catalog.rest import RestCatalog\n",
    "\n",
    "\n",
    "catalog = RestCatalog(name=\"iceberg\", uri=\"http://nessie:19120/iceberg/main/\")\n",
    "table = catalog.load_table(\"default.bank_transfers\")\n",
    "meta = table.metadata"
   ]
  },
  {
   "cell_type": "code",
   "execution_count": 2,
   "id": "fe71e74c",
   "metadata": {},
   "outputs": [
    {
     "name": "stdout",
     "output_type": "stream",
     "text": [
      "snapshot_id=2522143264380241787 timestamp_ms=1741646883863\n"
     ]
    }
   ],
   "source": [
    "# list snapshots\n",
    "\n",
    "for snapshot in table.history():\n",
    "    print(snapshot)"
   ]
  },
  {
   "cell_type": "code",
   "execution_count": 3,
   "id": "959bb4bb",
   "metadata": {},
   "outputs": [
    {
     "name": "stdout",
     "output_type": "stream",
     "text": [
      "Operation.OVERWRITE: id=2522143264380241787, schema_id=0\n"
     ]
    }
   ],
   "source": [
    "# current snapshot\n",
    "\n",
    "print(table.current_snapshot())"
   ]
  },
  {
   "cell_type": "code",
   "execution_count": 4,
   "id": "40e17114",
   "metadata": {},
   "outputs": [
    {
     "name": "stdout",
     "output_type": "stream",
     "text": [
      "s3://warehouse/iceberg/default/bank_transfers_4219e529-f925-4da7-b244-c0caf7c8554e\n"
     ]
    }
   ],
   "source": [
    "# physical location\n",
    "\n",
    "print(table.location())"
   ]
  },
  {
   "cell_type": "code",
   "execution_count": 5,
   "id": "3926775b",
   "metadata": {},
   "outputs": [
    {
     "name": "stdout",
     "output_type": "stream",
     "text": [
      "table {\n",
      "  1: id: optional long (transfer id)\n",
      "  2: amount: optional int (transferred amount, expressed in cents)\n",
      "  3: transferred_from: optional string (initiator of the transfer)\n",
      "  4: transferred_to: optional string (receiver of the transfer)\n",
      "  5: timestamp: optional timestamptz (time of the transfer)\n",
      "}\n"
     ]
    }
   ],
   "source": [
    "# schemas\n",
    "\n",
    "for schema in meta.schemas:\n",
    "    print(schema)"
   ]
  },
  {
   "cell_type": "code",
   "execution_count": 6,
   "id": "43e0cd01",
   "metadata": {},
   "outputs": [
    {
     "name": "stdout",
     "output_type": "stream",
     "text": [
      "Operation.OVERWRITE: id=2522143264380241787, schema_id=0\n"
     ]
    }
   ],
   "source": [
    "# snapshots again, this time directly from metadata\n",
    "\n",
    "for snapshot in meta.snapshots:\n",
    "    print(snapshot)"
   ]
  },
  {
   "cell_type": "code",
   "execution_count": 7,
   "id": "65588bbd",
   "metadata": {},
   "outputs": [
    {
     "name": "stdout",
     "output_type": "stream",
     "text": [
      "s3://warehouse/iceberg/default/bank_transfers_4219e529-f925-4da7-b244-c0caf7c8554e/metadata/snap-2522143264380241787-1-010c4b1b-32be-4b52-871b-335ba28e8a8e.avro\n"
     ]
    }
   ],
   "source": [
    "# a single snapshot\n",
    "\n",
    "print(meta.snapshots[-1].manifest_list)"
   ]
  },
  {
   "cell_type": "code",
   "execution_count": 8,
   "id": "ee623c27",
   "metadata": {},
   "outputs": [
    {
     "name": "stdout",
     "output_type": "stream",
     "text": [
      "[PartitionSpec(PartitionField(source_id=5, field_id=1000, transform=YearTransform(), name='timestamp_year'), spec_id=0)]\n"
     ]
    }
   ],
   "source": [
    "# current partition spec\n",
    "\n",
    "print(meta.partition_specs)"
   ]
  },
  {
   "cell_type": "code",
   "execution_count": 22,
   "id": "8ce8f697-5064-4e49-8e96-119a317cec57",
   "metadata": {},
   "outputs": [
    {
     "ename": "AttributeError",
     "evalue": "'Table' object has no attribute 'to_arrow'",
     "output_type": "error",
     "traceback": [
      "\u001b[31m---------------------------------------------------------------------------\u001b[39m",
      "\u001b[31mAttributeError\u001b[39m                            Traceback (most recent call last)",
      "\u001b[36mCell\u001b[39m\u001b[36m \u001b[39m\u001b[32mIn[22]\u001b[39m\u001b[32m, line 1\u001b[39m\n\u001b[32m----> \u001b[39m\u001b[32m1\u001b[39m df = \u001b[43mtable\u001b[49m\u001b[43m.\u001b[49m\u001b[43mto_arrow\u001b[49m()\n",
      "\u001b[31mAttributeError\u001b[39m: 'Table' object has no attribute 'to_arrow'"
     ]
    }
   ],
   "source": [
    "df = table.to_arrow()"
   ]
  },
  {
   "cell_type": "code",
   "execution_count": 13,
   "id": "e4cffb6f-2c72-4256-8c52-6d26e2ce80a2",
   "metadata": {},
   "outputs": [
    {
     "data": {
      "text/plain": [
       "['__annotations__',\n",
       " '__bool__',\n",
       " '__class__',\n",
       " '__contains__',\n",
       " '__copy__',\n",
       " '__deepcopy__',\n",
       " '__delattr__',\n",
       " '__dict__',\n",
       " '__dir__',\n",
       " '__doc__',\n",
       " '__eq__',\n",
       " '__format__',\n",
       " '__ge__',\n",
       " '__getattribute__',\n",
       " '__getitem__',\n",
       " '__getstate__',\n",
       " '__gt__',\n",
       " '__hash__',\n",
       " '__init__',\n",
       " '__init_subclass__',\n",
       " '__le__',\n",
       " '__lt__',\n",
       " '__module__',\n",
       " '__ne__',\n",
       " '__new__',\n",
       " '__reduce__',\n",
       " '__reduce_ex__',\n",
       " '__repr__',\n",
       " '__setattr__',\n",
       " '__setstate__',\n",
       " '__sizeof__',\n",
       " '__str__',\n",
       " '__subclasshook__',\n",
       " '__weakref__',\n",
       " '_accessors',\n",
       " '_comparison_error',\n",
       " '_fetch',\n",
       " '_filter',\n",
       " '_from_pyldf',\n",
       " '_ldf',\n",
       " '_repr_html_',\n",
       " '_scan_python_function',\n",
       " '_set_sink_optimizations',\n",
       " '_to_metadata',\n",
       " 'approx_n_unique',\n",
       " 'bottom_k',\n",
       " 'cache',\n",
       " 'cast',\n",
       " 'clear',\n",
       " 'clone',\n",
       " 'collect',\n",
       " 'collect_async',\n",
       " 'collect_schema',\n",
       " 'columns',\n",
       " 'count',\n",
       " 'describe',\n",
       " 'deserialize',\n",
       " 'drop',\n",
       " 'drop_nans',\n",
       " 'drop_nulls',\n",
       " 'dtypes',\n",
       " 'explain',\n",
       " 'explode',\n",
       " 'fetch',\n",
       " 'fill_nan',\n",
       " 'fill_null',\n",
       " 'filter',\n",
       " 'first',\n",
       " 'gather_every',\n",
       " 'group_by',\n",
       " 'group_by_dynamic',\n",
       " 'head',\n",
       " 'inspect',\n",
       " 'interpolate',\n",
       " 'join',\n",
       " 'join_asof',\n",
       " 'join_where',\n",
       " 'last',\n",
       " 'lazy',\n",
       " 'limit',\n",
       " 'map_batches',\n",
       " 'max',\n",
       " 'mean',\n",
       " 'median',\n",
       " 'melt',\n",
       " 'merge_sorted',\n",
       " 'min',\n",
       " 'null_count',\n",
       " 'pipe',\n",
       " 'profile',\n",
       " 'quantile',\n",
       " 'remote',\n",
       " 'remove',\n",
       " 'rename',\n",
       " 'reverse',\n",
       " 'rolling',\n",
       " 'schema',\n",
       " 'select',\n",
       " 'select_seq',\n",
       " 'serialize',\n",
       " 'set_sorted',\n",
       " 'shift',\n",
       " 'show_graph',\n",
       " 'sink_csv',\n",
       " 'sink_ipc',\n",
       " 'sink_ndjson',\n",
       " 'sink_parquet',\n",
       " 'slice',\n",
       " 'sort',\n",
       " 'sql',\n",
       " 'std',\n",
       " 'sum',\n",
       " 'tail',\n",
       " 'top_k',\n",
       " 'unique',\n",
       " 'unnest',\n",
       " 'unpivot',\n",
       " 'update',\n",
       " 'var',\n",
       " 'width',\n",
       " 'with_columns',\n",
       " 'with_columns_seq',\n",
       " 'with_context',\n",
       " 'with_row_count',\n",
       " 'with_row_index']"
      ]
     },
     "execution_count": 13,
     "metadata": {},
     "output_type": "execute_result"
    }
   ],
   "source": [
    "dir(df)"
   ]
  },
  {
   "cell_type": "code",
   "execution_count": 21,
   "id": "ba10f8fa-793c-447d-9958-876479c8d9dc",
   "metadata": {},
   "outputs": [
    {
     "ename": "ComputeError",
     "evalue": "NoCredentialsError: Unable to locate credentials",
     "output_type": "error",
     "traceback": [
      "\u001b[31m---------------------------------------------------------------------------\u001b[39m",
      "\u001b[31mComputeError\u001b[39m                              Traceback (most recent call last)",
      "\u001b[36mCell\u001b[39m\u001b[36m \u001b[39m\u001b[32mIn[21]\u001b[39m\u001b[32m, line 1\u001b[39m\n\u001b[32m----> \u001b[39m\u001b[32m1\u001b[39m \u001b[43mdf\u001b[49m\u001b[43m.\u001b[49m\u001b[43mhead\u001b[49m\u001b[43m(\u001b[49m\u001b[43m)\u001b[49m\u001b[43m.\u001b[49m\u001b[43mcollect\u001b[49m\u001b[43m(\u001b[49m\u001b[43m)\u001b[49m\n",
      "\u001b[36mFile \u001b[39m\u001b[32m/usr/local/lib/python3.12/site-packages/polars/lazyframe/frame.py:2065\u001b[39m, in \u001b[36mLazyFrame.collect\u001b[39m\u001b[34m(self, type_coercion, _type_check, predicate_pushdown, projection_pushdown, simplify_expression, slice_pushdown, comm_subplan_elim, comm_subexpr_elim, cluster_with_columns, collapse_joins, no_optimization, streaming, engine, background, _check_order, _eager, **_kwargs)\u001b[39m\n\u001b[32m   2063\u001b[39m \u001b[38;5;66;03m# Only for testing purposes\u001b[39;00m\n\u001b[32m   2064\u001b[39m callback = _kwargs.get(\u001b[33m\"\u001b[39m\u001b[33mpost_opt_callback\u001b[39m\u001b[33m\"\u001b[39m, callback)\n\u001b[32m-> \u001b[39m\u001b[32m2065\u001b[39m \u001b[38;5;28;01mreturn\u001b[39;00m wrap_df(\u001b[43mldf\u001b[49m\u001b[43m.\u001b[49m\u001b[43mcollect\u001b[49m\u001b[43m(\u001b[49m\u001b[43mcallback\u001b[49m\u001b[43m)\u001b[49m)\n",
      "\u001b[31mComputeError\u001b[39m: NoCredentialsError: Unable to locate credentials"
     ]
    }
   ],
   "source": [
    "df.head().collect()"
   ]
  },
  {
   "cell_type": "code",
   "execution_count": null,
   "id": "06f4e60b-25e5-4a3b-adb8-e88b2ee440c4",
   "metadata": {},
   "outputs": [],
   "source": []
  }
 ],
 "metadata": {
  "kernelspec": {
   "display_name": "Python 3 (ipykernel)",
   "language": "python",
   "name": "python3"
  },
  "language_info": {
   "codemirror_mode": {
    "name": "ipython",
    "version": 3
   },
   "file_extension": ".py",
   "mimetype": "text/x-python",
   "name": "python",
   "nbconvert_exporter": "python",
   "pygments_lexer": "ipython3",
   "version": "3.12.9"
  }
 },
 "nbformat": 4,
 "nbformat_minor": 5
}
