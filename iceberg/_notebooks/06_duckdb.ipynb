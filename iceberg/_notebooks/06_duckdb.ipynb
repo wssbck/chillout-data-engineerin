{
 "cells": [
  {
   "cell_type": "code",
   "execution_count": 1,
   "id": "3bc185fe-fe74-48f7-a6a4-67c271358c8f",
   "metadata": {},
   "outputs": [],
   "source": [
    "# configure DuckDB to work with Iceberg and MinIO\n",
    "\n",
    "import duckdb\n",
    "\n",
    "\n",
    "duckdb.sql(\"\"\"\n",
    "INSTALL iceberg;\n",
    "INSTALL httpfs;\n",
    "\n",
    "UPDATE EXTENSIONS;\n",
    "\n",
    "LOAD iceberg;\n",
    "LOAD httpfs;\n",
    "\n",
    "SET s3_endpoint='minio:9000';\n",
    "SET s3_access_key_id='minioadmin';\n",
    "SET s3_secret_access_key='minioadmin';\n",
    "SET s3_region='eu-central-1';\n",
    "SET s3_use_ssl=false;\n",
    "SET s3_url_style='path';\n",
    "\"\"\")"
   ]
  },
  {
   "cell_type": "code",
   "execution_count": 2,
   "id": "7ea2544a-6b9c-460f-b524-13201d75757b",
   "metadata": {},
   "outputs": [],
   "source": [
    "# use pyiceberg to get the location of the table\n",
    "\n",
    "from pyiceberg.catalog.rest import RestCatalog\n",
    "\n",
    "\n",
    "catalog = RestCatalog(name=\"iceberg\", uri=\"http://nessie:19120/iceberg/main/\")\n",
    "table = catalog.load_table(\"default.bank_transfers\")"
   ]
  },
  {
   "cell_type": "code",
   "execution_count": 7,
   "id": "18d37b69-c6c4-439c-9621-7ec165b5c9aa",
   "metadata": {},
   "outputs": [
    {
     "data": {
      "text/plain": [
       "┌───────┬────────┬──────────────────┬────────────────┬──────────────────────────┐\n",
       "│  id   │ amount │ transferred_from │ transferred_to │        timestamp         │\n",
       "│ int64 │ int32  │     varchar      │    varchar     │ timestamp with time zone │\n",
       "├───────┼────────┼──────────────────┼────────────────┼──────────────────────────┤\n",
       "│     4 │    200 │ CTX Inc.         │ XYZ GmbH       │ 2022-12-01 07:32:18+01   │\n",
       "│     1 │  12000 │ ACME INC         │ ASTROCORP      │ 2022-11-14 01:55:00+01   │\n",
       "│     2 │  24000 │ John Doe         │ Jane Doe       │ 2022-11-15 03:11:00+01   │\n",
       "│     3 │    500 │ Deborah S.       │ Michael C.     │ 2022-11-17 17:25:07+01   │\n",
       "└───────┴────────┴──────────────────┴────────────────┴──────────────────────────┘"
      ]
     },
     "execution_count": 7,
     "metadata": {},
     "output_type": "execute_result"
    }
   ],
   "source": [
    "# query the table\n",
    "\n",
    "duckdb.sql(f\"SELECT * FROM iceberg_scan('{table.metadata_location}')\")"
   ]
  },
  {
   "cell_type": "code",
   "execution_count": 12,
   "id": "6b3016e4-eb0c-4850-93f4-85a241bebb16",
   "metadata": {},
   "outputs": [
    {
     "data": {
      "text/plain": [
       "┌─────────────────┬─────────────────────┬─────────────────────────┬──────────────────────────────────────────────────────────────────────────────────────────────────────────────────────────────────────────────────────────────────┐\n",
       "│ sequence_number │     snapshot_id     │      timestamp_ms       │                                                                          manifest_list                                                                           │\n",
       "│     uint64      │       uint64        │        timestamp        │                                                                             varchar                                                                              │\n",
       "├─────────────────┼─────────────────────┼─────────────────────────┼──────────────────────────────────────────────────────────────────────────────────────────────────────────────────────────────────────────────────────────────────┤\n",
       "│               2 │ 7083951985285040312 │ 2025-03-15 20:30:13.031 │ s3://warehouse/iceberg/default/bank_transfers_30ddb0f1-cdb5-4876-8def-d000a8cdbd8d/metadata/snap-7083951985285040312-1-33a9fdca-0393-48ad-bfe1-cc353df98e62.avro │\n",
       "└─────────────────┴─────────────────────┴─────────────────────────┴──────────────────────────────────────────────────────────────────────────────────────────────────────────────────────────────────────────────────────────────────┘"
      ]
     },
     "execution_count": 12,
     "metadata": {},
     "output_type": "execute_result"
    }
   ],
   "source": [
    "# list snapshots of the table\n",
    "\n",
    "duckdb.sql(f\"SELECT * FROM iceberg_snapshots('{table.metadata_location}')\")"
   ]
  },
  {
   "cell_type": "code",
   "execution_count": null,
   "id": "02fddfd2-5b5e-4d49-bf87-583884cab5db",
   "metadata": {},
   "outputs": [],
   "source": []
  }
 ],
 "metadata": {
  "kernelspec": {
   "display_name": "Python 3 (ipykernel)",
   "language": "python",
   "name": "python3"
  },
  "language_info": {
   "codemirror_mode": {
    "name": "ipython",
    "version": 3
   },
   "file_extension": ".py",
   "mimetype": "text/x-python",
   "name": "python",
   "nbconvert_exporter": "python",
   "pygments_lexer": "ipython3",
   "version": "3.13.2"
  }
 },
 "nbformat": 4,
 "nbformat_minor": 5
}
