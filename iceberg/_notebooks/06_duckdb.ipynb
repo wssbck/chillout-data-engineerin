{
 "cells": [
  {
   "cell_type": "code",
   "execution_count": null,
   "id": "3bc185fe-fe74-48f7-a6a4-67c271358c8f",
   "metadata": {},
   "outputs": [],
   "source": [
    "# configure DuckDB to work with Iceberg and MinIO\n",
    "\n",
    "import duckdb\n",
    "\n",
    "\n",
    "duckdb.sql(\"\"\"\n",
    "INSTALL iceberg;\n",
    "LOAD iceberg;\n",
    "INSTALL httpfs;\n",
    "LOAD httpfs;\n",
    "\n",
    "SET s3_endpoint='minio:9000';\n",
    "SET s3_access_key_id='minioadmin';\n",
    "SET s3_secret_access_key='minioadmin';\n",
    "SET s3_region='eu-central-1';\n",
    "SET s3_use_ssl=false;\n",
    "SET s3_url_style='path';\n",
    "\"\"\")"
   ]
  },
  {
   "cell_type": "code",
   "execution_count": null,
   "id": "7ea2544a-6b9c-460f-b524-13201d75757b",
   "metadata": {},
   "outputs": [],
   "source": [
    "# use pyiceberg to get the location of the table\n",
    "\n",
    "from pyiceberg.catalog.rest import RestCatalog\n",
    "\n",
    "\n",
    "catalog = RestCatalog(name=\"iceberg\", uri=\"http://nessie:19120/iceberg/main/\")\n",
    "table = catalog.load_table(\"default.bank_transfers\")"
   ]
  },
  {
   "cell_type": "code",
   "execution_count": null,
   "id": "18d37b69-c6c4-439c-9621-7ec165b5c9aa",
   "metadata": {},
   "outputs": [],
   "source": [
    "# query the table\n",
    "\n",
    "duckdb.sql(f\"SELECT * FROM iceberg_scan('{table.metadata_location}')\")"
   ]
  }
 ],
 "metadata": {
  "kernelspec": {
   "display_name": "Python 3 (ipykernel)",
   "language": "python",
   "name": "python3"
  },
  "language_info": {
   "codemirror_mode": {
    "name": "ipython",
    "version": 3
   },
   "file_extension": ".py",
   "mimetype": "text/x-python",
   "name": "python",
   "nbconvert_exporter": "python",
   "pygments_lexer": "ipython3",
   "version": "3.13.2"
  }
 },
 "nbformat": 4,
 "nbformat_minor": 5
}
