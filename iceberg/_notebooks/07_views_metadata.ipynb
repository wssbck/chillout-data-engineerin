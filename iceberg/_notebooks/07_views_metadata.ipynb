{
 "cells": [
  {
   "cell_type": "code",
   "execution_count": null,
   "id": "69cf432b-a5bb-4b35-8308-a436a347ea81",
   "metadata": {},
   "outputs": [],
   "source": [
    "# define Spark client\n",
    "\n",
    "from pyspark.sql import SparkSession\n",
    "\n",
    "spark = (\n",
    "    SparkSession.builder\n",
    "        .config(\n",
    "            \"spark.sql.extensions\",\n",
    "            \"org.projectnessie.spark.extensions.NessieSparkSessionExtensions, org.apache.iceberg.spark.extensions.IcebergSparkSessionExtensions\"\n",
    "        )\n",
    "        .config(\"spark.sql.catalog.iceberg\", \"org.apache.iceberg.spark.SparkCatalog\")\n",
    "        .config(\"spark.sql.catalog.iceberg.io-impl\", \"org.apache.iceberg.aws.s3.S3FileIO\")\n",
    "        .config(\"spark.sql.catalog.iceberg.type\", \"rest\")\n",
    "        .config(\"spark.sql.catalog.iceberg.uri\", \"http://nessie:19120/iceberg/main/\")\n",
    "        .config(\"spark.sql.catalog.iceberg.ref\", \"main\")\n",
    "        .config(\"spark.sql.catalog.iceberg.cache-enabled\", False)\n",
    "        .getOrCreate()\n",
    ")\n",
    "\n",
    "spark.sparkContext.setLogLevel('ERROR')"
   ]
  },
  {
   "cell_type": "code",
   "execution_count": null,
   "id": "4ee4e4c5-be69-4751-a01b-8eb612138992",
   "metadata": {},
   "outputs": [],
   "source": [
    "# define a view\n",
    "\n",
    "spark.sql(\"\"\"\n",
    "CREATE VIEW iceberg.default.bank_transfers_view (transaction_id COMMENT 'identifier', transaction_amount COMMENT 'amount')\n",
    "   COMMENT 'View of transactinos'\n",
    "   AS SELECT id, amount FROM iceberg.default.bank_transfers\n",
    "\"\"\")"
   ]
  },
  {
   "cell_type": "code",
   "execution_count": null,
   "id": "6a291f2f-26d4-419e-abe1-ee5d1c9f89ba",
   "metadata": {},
   "outputs": [],
   "source": [
    "# select from the view \n",
    "\n",
    "spark.sql(\"\"\"\n",
    "SELECT * FROM iceberg.default.bank_transfers_view\n",
    "\"\"\").show()"
   ]
  },
  {
   "cell_type": "code",
   "execution_count": null,
   "id": "00a8229b-dedb-47ec-9fc4-1fc30f4e7249",
   "metadata": {},
   "outputs": [],
   "source": [
    "# select all data in the view using Trino\n",
    "\n",
    "rows = trino.execute(\"\"\"\n",
    "SELECT *\n",
    "FROM iceberg.default.bank_transfers_view\n",
    "\"\"\").fetchall()\n",
    "\n",
    "for row in rows:\n",
    "    print(row)"
   ]
  }
 ],
 "metadata": {
  "kernelspec": {
   "display_name": "Python 3 (ipykernel)",
   "language": "python",
   "name": "python3"
  },
  "language_info": {
   "codemirror_mode": {
    "name": "ipython",
    "version": 3
   },
   "file_extension": ".py",
   "mimetype": "text/x-python",
   "name": "python",
   "nbconvert_exporter": "python",
   "pygments_lexer": "ipython3",
   "version": "3.13.5"
  }
 },
 "nbformat": 4,
 "nbformat_minor": 5
}
