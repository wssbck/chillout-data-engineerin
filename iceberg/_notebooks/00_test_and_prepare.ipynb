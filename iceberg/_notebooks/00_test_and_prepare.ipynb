{
 "cells": [
  {
   "cell_type": "code",
   "execution_count": null,
   "id": "94146db3-4246-4e4c-be0f-6b71427a139a",
   "metadata": {},
   "outputs": [],
   "source": [
    "# create the 'warehouse' S3 bucket\n",
    "\n",
    "import boto3\n",
    "\n",
    "\n",
    "s3_resource = boto3.resource('s3', \n",
    "    endpoint_url='http://minio:9000',\n",
    "    aws_access_key_id='minioadmin',\n",
    "    aws_secret_access_key='minioadmin',\n",
    "    aws_session_token=None,\n",
    "    config=boto3.session.Config(signature_version='s3v4'),\n",
    "    verify=False,\n",
    ")\n",
    "\n",
    "# if it fails with BucketAlreadyOwnedByYou, it means the bucket is already there\n",
    "try:\n",
    "    s3_resource.Bucket(\"warehouse\").create()\n",
    "except Exception as e:\n",
    "    print(e)"
   ]
  },
  {
   "cell_type": "code",
   "execution_count": null,
   "id": "50fb0e7e-d76f-4851-9dbb-3c48a0a8c229",
   "metadata": {},
   "outputs": [],
   "source": [
    "# bootstrap the catalog\n",
    "\n",
    "import requests\n",
    "\n",
    "\n",
    "r = requests.post(\"http://lakekeeper:8181/management/v1/bootstrap\", json={\"accept-terms-of-use\": True})\n",
    "r.json()"
   ]
  },
  {
   "cell_type": "code",
   "execution_count": null,
   "id": "6eee49de-027f-4b2c-85d0-5d03222c0423",
   "metadata": {},
   "outputs": [],
   "source": [
    "# initialise the 'iceberg' warehouse in Lakekeeper\n",
    "\n",
    "import requests\n",
    "\n",
    "payload = {\n",
    "  \"warehouse-name\": \"iceberg\",\n",
    "  \"project-id\": \"00000000-0000-0000-0000-000000000000\",\n",
    "  \"storage-profile\": {\n",
    "    \"type\": \"s3\",\n",
    "    \"bucket\": \"warehouse\",\n",
    "    \"key-prefix\": \"iceberg\",\n",
    "    \"assume-role-arn\": None,\n",
    "    \"endpoint\": \"http://minio:9000\",\n",
    "    \"region\": \"eu-central-1\",\n",
    "    \"path-style-access\": True,\n",
    "    \"flavor\": \"minio\",\n",
    "    \"sts-enabled\": True,\n",
    "  },\n",
    "  \"storage-credential\": {\n",
    "    \"type\": \"s3\",\n",
    "    \"credential-type\": \"access-key\",\n",
    "    \"aws-access-key-id\": \"minioadmin\",\n",
    "    \"aws-secret-access-key\": \"minioadmin\"\n",
    "  }\n",
    "}\n",
    "\n",
    "r = requests.post(\"http://lakekeeper:8181/management/v1/warehouse\", json=payload)\n",
    "r.json()"
   ]
  },
  {
   "cell_type": "code",
   "execution_count": 1,
   "id": "707b56a6-9ebe-45a8-b935-27352170f322",
   "metadata": {},
   "outputs": [
    {
     "data": {
      "text/plain": [
       "{'overrides': {'uri': 'http://lakekeeper:8181/catalog'},\n",
       " 'defaults': {'prefix': 'a7bd7196-4a24-11f0-9747-6722da9e9d8e',\n",
       "  'rest-page-size': '100'},\n",
       " 'endpoints': ['GET /v1/config',\n",
       "  'GET /v1/{prefix}/namespaces',\n",
       "  'HEAD /v1/{prefix}/namespaces/{namespace}',\n",
       "  'POST /v1/{prefix}/namespaces',\n",
       "  'GET /v1/{prefix}/namespaces/{namespace}',\n",
       "  'DELETE /v1/{prefix}/namespaces/{namespace}',\n",
       "  'POST /v1/{prefix}/namespaces/{namespace}/properties',\n",
       "  'GET /v1/{prefix}/namespaces/{namespace}/tables',\n",
       "  'POST /v1/{prefix}/namespaces/{namespace}/tables',\n",
       "  'GET /v1/{prefix}/namespaces/{namespace}/tables/{table}',\n",
       "  'POST /v1/{prefix}/namespaces/{namespace}/tables/{table}',\n",
       "  'DELETE /v1/{prefix}/namespaces/{namespace}/tables/{table}',\n",
       "  'HEAD /v1/{prefix}/namespaces/{namespace}/tables/{table}',\n",
       "  'GET /v1/{prefix}/namespaces/{namespace}/tables/{table}/credentials',\n",
       "  'POST /v1/{prefix}/tables/rename',\n",
       "  'POST /v1/{prefix}/namespaces/{namespace}/register',\n",
       "  'POST /v1/{prefix}/namespaces/{namespace}/tables/{table}/metrics',\n",
       "  'POST /v1/{prefix}/transactions/commit',\n",
       "  'POST /v1/{prefix}/namespaces/{namespace}/views',\n",
       "  'GET /v1/{prefix}/namespaces/{namespace}/views',\n",
       "  'GET /v1/{prefix}/namespaces/{namespace}/views/{view}',\n",
       "  'POST /v1/{prefix}/namespaces/{namespace}/views/{view}',\n",
       "  'DELETE /v1/{prefix}/namespaces/{namespace}/views/{view}',\n",
       "  'HEAD /v1/{prefix}/namespaces/{namespace}/views/{view}',\n",
       "  'POST /v1/{prefix}/views/rename']}"
      ]
     },
     "execution_count": 1,
     "metadata": {},
     "output_type": "execute_result"
    }
   ],
   "source": [
    "# check the config of the created warehouse, in particular, its prefix\n",
    "\n",
    "import requests\n",
    "\n",
    "r = requests.get(\"http://lakekeeper:8181/catalog/v1/config?warehouse=iceberg\")\n",
    "r.json()"
   ]
  },
  {
   "cell_type": "code",
   "execution_count": null,
   "id": "85ce8957-5d55-4dc8-bccc-e5d52c3ddafd",
   "metadata": {},
   "outputs": [],
   "source": []
  },
  {
   "cell_type": "code",
   "execution_count": 32,
   "id": "279eb712",
   "metadata": {},
   "outputs": [
    {
     "name": "stdout",
     "output_type": "stream",
     "text": [
      "+------------+\n",
      "|   namespace|\n",
      "+------------+\n",
      "|     default|\n",
      "|my_namespace|\n",
      "+------------+\n",
      "\n"
     ]
    }
   ],
   "source": [
    "# check that Spark client works\n",
    "\n",
    "from pyspark.sql import SparkSession\n",
    "\n",
    "\n",
    "spark = (\n",
    "    SparkSession.builder\n",
    "        .config(\n",
    "            \"spark.sql.extensions\",\n",
    "            \"org.projectnessie.spark.extensions.NessieSparkSessionExtensions, org.apache.iceberg.spark.extensions.IcebergSparkSessionExtensions\"\n",
    "        )\n",
    "        .config(\"spark.sql.catalog.iceberg\", \"org.apache.iceberg.spark.SparkCatalog\")\n",
    "        .config(\"spark.sql.catalog.iceberg.io-impl\", \"org.apache.iceberg.aws.s3.S3FileIO\")\n",
    "        .config(\"spark.sql.catalog.iceberg.type\", \"rest\")\n",
    "        .config(\"spark.sql.catalog.iceberg.uri\", \"http://lakekeeper:8181/catalog/\")\n",
    "        .config(\"spark.sql.catalog.iceberg.warehouse\", \"iceberg\")\n",
    "        .config(\"spark.sql.catalog.iceberg.ref\", \"main\")\n",
    "        .config(\"spark.sql.catalog.iceberg.cache-enabled\", False)\n",
    "        .getOrCreate()\n",
    ")\n",
    "spark.sparkContext.setLogLevel('ERROR')\n",
    "\n",
    "# spark.sql(\"\"\"\n",
    "#     CREATE NAMESPACE IF NOT EXISTS my_namespace\n",
    "# \"\"\").show()\n",
    "\n",
    "#spark.sql(\"\"\"\n",
    "#     SHOW NAMESPACES\n",
    "#\"\"\").show()\n",
    "\n",
    "spark.sql(\"\"\"\n",
    "    USE default\n",
    "\"\"\")\n",
    "spark.sql(\"\"\"\n",
    "    SHOW SCHEMAS\n",
    "\"\"\").show()"
   ]
  },
  {
   "cell_type": "code",
   "execution_count": null,
   "id": "6e8e63c3",
   "metadata": {},
   "outputs": [],
   "source": [
    "# check that Trino client works\n",
    "\n",
    "from trino.dbapi import connect\n",
    "\n",
    "\n",
    "trino_connection = connect(\n",
    "    host=\"trino\",\n",
    "    port=8080,\n",
    "    user=\"trino\",\n",
    ")\n",
    "trino = trino_connection.cursor()\n",
    "trino.execute(\"SHOW SCHEMAS FROM iceberg\")\n",
    "\n",
    "rows = trino.fetchall()\n",
    "print(rows)"
   ]
  },
  {
   "cell_type": "code",
   "execution_count": null,
   "id": "32c5f8bc",
   "metadata": {
    "scrolled": true
   },
   "outputs": [],
   "source": [
    "# finally, let's check that avro tools work\n",
    "\n",
    "!java -jar /usr/bin/avro.jar"
   ]
  }
 ],
 "metadata": {
  "kernelspec": {
   "display_name": "Python 3 (ipykernel)",
   "language": "python",
   "name": "python3"
  },
  "language_info": {
   "codemirror_mode": {
    "name": "ipython",
    "version": 3
   },
   "file_extension": ".py",
   "mimetype": "text/x-python",
   "name": "python",
   "nbconvert_exporter": "python",
   "pygments_lexer": "ipython3",
   "version": "3.13.5"
  }
 },
 "nbformat": 4,
 "nbformat_minor": 5
}
